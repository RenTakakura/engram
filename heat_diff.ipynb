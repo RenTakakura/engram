{
 "cells": [
  {
   "cell_type": "markdown",
   "metadata": {},
   "source": [
    "ヒートマップの作成(heatdiff)\n",
    "<方針><br>\n",
    "・フェーズごとと全フェーズ合算の二種類で行う<br>\n",
    "・各cell各フェーズにおいて、standard(標準化)のdiffを使う<br>\n",
    "・標準化後の値が2.0以上のものを「活動状態」の判定基準とする<br>\n",
    "・各cellのcolorが示す値は、そのエリアに存在した時に、「活動状態」だった確率<br>"
   ]
  },
  {
   "cell_type": "markdown",
   "metadata": {},
   "source": [
    "最新バージョン(現在は不使用)保存用"
   ]
  },
  {
   "cell_type": "code",
   "execution_count": null,
   "metadata": {
    "collapsed": true
   },
   "outputs": [],
   "source": []
  },
  {
   "cell_type": "code",
   "execution_count": null,
   "metadata": {
    "collapsed": true
   },
   "outputs": [],
   "source": [
    "\"\"\"\n",
    "    #Ca2+イメージング強度のslice間変化分(diff)が閾値(ts)より大きくなる頻度分布のヒートマップ:heatdiffprob(X:x,Y:y,heat:p(訪れた時にdiff?>ts))の作成\n",
    "    #(現在は不使用)\n",
    "    inputf='%s/python/%s_meandiffall.csv' %(mouse,mouse)          \n",
    "    dfmeandiff_all=pd.read_csv(inputf,header=0)\n",
    "    dfmap=pd.DataFrame(index=np.arange(195,-5,-200/20),columns=np.arange(6.25,256.25,250/20))\n",
    "    dfmap_n=pd.DataFrame(index=np.arange(195,-5,-200/20),columns=np.arange(6.25,256.25,250/20))\n",
    "    dfmap_d=pd.DataFrame(index=np.arange(195,-5,-200/20),columns=np.arange(6.25,256.25,250/20))\n",
    "\n",
    "    for i in range(0,20):\n",
    "\n",
    "        for j in range(0,20):\n",
    "\n",
    "            n=dfmeandiff_all[(dfmeandiff_all['X']>float(dfmap.columns[i]-6.25) )& (dfmeandiff_all['X']<float(dfmap.columns[i]+6.25) )&( dfmeandiff_all['Y']>float(dfmap.index[j]-5) )& (dfmeandiff_all['Y']<float(dfmap.index[j]+5))].shape[0]\n",
    "\n",
    "            dfmap_n.iloc[i,j]=n\n",
    "\n",
    "\n",
    "    for ts in range(1,5):\n",
    "\n",
    "        for cell in range(dfmeandiff_all.columns.get_loc(cell_f),dfmeandiff_all.columns.get_loc(cell_l)+1):\n",
    "\n",
    "            for i in range(0,20):\n",
    "\n",
    "                for j in range(0,20):\n",
    "\n",
    "                    if dfmap_n.iloc[i,j]<1.0:\n",
    "\n",
    "\n",
    "                        dfmap.iloc[i,j]=0\n",
    "\n",
    "                        dfmap_d.iloc[i,j]=0\n",
    "\n",
    "                    else:\n",
    "\n",
    "                        d=dfmeandiff_all[(dfmeandiff_all['X']>float(dfmap.columns[i]-6.25)) & (dfmeandiff_all['X']<float(dfmap.columns[i]+6.25)) & (dfmeandiff_all['Y']>float(dfmap.index[j]-5)) & (dfmeandiff_all['Y']<float(dfmap.index[j]+5) )& (dfmeandiff_all[dfmeandiff_all.columns[cell]]>ts)].shape[0]\n",
    "\n",
    "\n",
    "                        dfmap_d.iloc[i,j]=d\n",
    "\n",
    "                        dfmap.iloc[i,j]=(d/dfmap_n.iloc[i,j])\n",
    "\n",
    "            dfmap=dfmap.astype(float)\n",
    "            #dfmap.columns.astype(float)\n",
    "            #dfmap.index.astype(float)\n",
    "            \n",
    "            plt.figure()\n",
    "            title_name='heatdiffprob_ts%s_%s' % (ts,dfmeandiff_all.columns[cell])\n",
    "            file_name='%s/python/%s_fig/'%(mouse,mouse)+title_name+'.png'\n",
    "            plt.title(title_name)\n",
    "            plt.xlabel('x')\n",
    "            plt.ylabel('y')\n",
    "            sns.heatmap(dfmap)\n",
    "            plt.savefig(file_name)\n",
    "\n",
    "            dfmap_d=dfmap_d.astype(float)\n",
    "            plt.figure()\n",
    "            title_name='heatdiff_ts%s_%s' % (ts,dfmeandiff_all.columns[cell])\n",
    "            file_name='%s/python/%s_fig/'%(mouse,mouse)+title_name+'.png'\n",
    "            plt.title(title_name)\n",
    "            plt.xlabel('x')\n",
    "            plt.ylabel('y')\n",
    "            sns.heatmap(dfmap_d)\n",
    "            plt.savefig(file_name)\n",
    "\"\"\"            "
   ]
  },
  {
   "cell_type": "markdown",
   "metadata": {},
   "source": [
    "過去バージョン(現在は不使用) 保存用"
   ]
  },
  {
   "cell_type": "code",
   "execution_count": 1,
   "metadata": {
    "scrolled": true
   },
   "outputs": [
    {
     "data": {
      "text/plain": [
       "\"\\n#for ph in range(0,len(phase_list)):\\n\\nfor ph in range(0,9):\\n   \\n\\n    phase=phase_list[ph]\\n\\n    #for index in range(0,len(Index)):\\n\\n    inputXY='ID138464-%s_%s_XY.txt' %(mouse,phase)\\n\\n    dfx = pd.read_table(inputXY,header=0)\\n    \\n    dfx['phase']=ph\\n\\n    inputT='ID138464-%s_long_trace_%s.csv'%(mouse,phase)\\n\\n    dfl=pd.read_csv(inputT,header=0)\\n    \\n    dfl_diff=dfl.diff()\\n    dfl_diff['Time1']=dfl['Time1']\\n    dfl_diff['Time2']=dfl['Time2']\\n\\n    dfx_m=pd.DataFrame(columns=dfx.columns,index=np.arange(0,int(dfx.iloc[dfx.shape[0]-1].loc['Slice']-1)*10))\\n\\n    for i in range(2,int(dfx.shape[0])):\\n\\n        for j in range(0,10):\\n\\n            for k in range(0,len(dfx_m.columns)):\\n\\n                dfx_m.iloc[(i-2)*10+j].loc[dfx_m.columns[k]]=dfx.iloc[i].loc[dfx_m.columns[k]]\\n\\n    df=pd.concat([dfx_m, dfl_diff], axis=1)\\n    df=df.dropna(how='any')\\n\\n    Index=np.arange(int(df.iloc[0].loc['Slice']),int(df.iloc[df.shape[0]-1].loc['Slice']+1),1)\\n\\n    df_mean=pd.DataFrame(index=Index,columns=[])\\n\\n    for i in range(0,len(df.columns)):\\n\\n        df_mean[df.columns[i]]=0\\n\\n    for i_n in range(int(df.iloc[0].loc['Slice']),int(df.iloc[df.shape[0]-1].loc['Slice']+1)):\\n\\n        i = i_n - int(df.iloc[0].loc['Slice'])\\n\\n        df_mean.iloc[i].loc['Slice']=i_n\\n\\n        dfs = df[df['Slice']==i_n]\\n\\n        for k in range(0,df.columns.get_loc('Time2')+1):\\n\\n            df_mean.iloc[i,k]=dfs.iloc[0,k]\\n\\n        for j in range(dfs.columns.get_loc(' C000'),dfs.columns.get_loc(' C261')+1):\\n\\n            df_mean.iloc[i,j]=dfs[dfs.columns[j]].mean()\\n            \\n    dfmean=df_mean.diff()\\n    dfmean.loc[:,:'Time2']=df_mean.loc[:,:'Time2']\\n    dfmean=dfmean.dropna(how='any')\\n    \\n    dfmean_std=pd.DataFrame(columns=dfmean.columns,index=dfmean.index)\\n    for k in range(dfmean_std.columns.get_loc('Slice'),dfmean_std.columns.get_loc(' C000')):\\n        dfmean_std[dfmean_std.columns[k]]=dfmean[dfmean_std.columns[k]]\\n    for i in range(dfmean_std.columns.get_loc(' C000'),dfmean_std.columns.get_loc(' C261')+1):\\n        for j in range(0,dfmean_std.shape[0]):\\n            dfmean_std.iloc[j,i]=((dfmean.iloc[j,i]-dfmean[dfmean_std.columns[i]].mean())/dfmean[dfmean_std.columns[i]].std())\\n\\n    \\n    dfmean_all=pd.concat([dfmean_all,dfmean_std])\\n\\nfor j in range(dfmean_all.columns.get_loc(' C212'),dfmean_all.columns.get_loc(' C261')+1):\\n    \\n    dfmean_heat=pd.DataFrame()\\n    \\n    ts=4.0\\n    \\n    dfmean_heat=dfmean_all[dfmean_all[dfmean_all.columns[j]]>=ts]\\n    \\n    fig = plt.figure()\\n    ax = fig.add_subplot(111)\\n\\n    H = ax.hist2d(dfmean_heat['X'],dfmean_heat['Y'], bins=20,range=[[0,250],[0,200]],normed=True,cmap=cm.jet)\\n    #ax.set_title('1st graph')\\n    ax.set_xlabel('x')\\n    ax.set_ylabel('y')\\n    ax.set_xlim(0,250)\\n    ax.set_ylim(0,200)\\n    H[3].set_clim(0,0.003)\\n    fig.colorbar(H[3],ax=ax)\\n    \\n    #plt.show()\\n\\n\\n    plt.xlabel('x')\\n    plt.ylabel('y')             \\n    title_name='fig4/heatdiff_mouse%s_ts%s_%s' % (mouse,ts,dfmean_all.columns[j])\\n    plt.title(title_name)\\n    file_name=title_name+'.png'\\n    plt.savefig(file_name)\\n    plt.figure(figsize=(5.4, 3.6), dpi=80)\\n    plt.show()\\n    \\n\""
      ]
     },
     "execution_count": 1,
     "metadata": {},
     "output_type": "execute_result"
    }
   ],
   "source": [
    "\n",
    "\"\"\"\n",
    "#for ph in range(0,len(phase_list)):\n",
    "\n",
    "for ph in range(0,9):\n",
    "   \n",
    "\n",
    "    phase=phase_list[ph]\n",
    "\n",
    "    #for index in range(0,len(Index)):\n",
    "\n",
    "    inputXY='ID138464-%s_%s_XY.txt' %(mouse,phase)\n",
    "\n",
    "    dfx = pd.read_table(inputXY,header=0)\n",
    "    \n",
    "    dfx['phase']=ph\n",
    "\n",
    "    inputT='ID138464-%s_long_trace_%s.csv'%(mouse,phase)\n",
    "\n",
    "    dfl=pd.read_csv(inputT,header=0)\n",
    "    \n",
    "    dfl_diff=dfl.diff()\n",
    "    dfl_diff['Time1']=dfl['Time1']\n",
    "    dfl_diff['Time2']=dfl['Time2']\n",
    "\n",
    "    dfx_m=pd.DataFrame(columns=dfx.columns,index=np.arange(0,int(dfx.iloc[dfx.shape[0]-1].loc['Slice']-1)*10))\n",
    "\n",
    "    for i in range(2,int(dfx.shape[0])):\n",
    "\n",
    "        for j in range(0,10):\n",
    "\n",
    "            for k in range(0,len(dfx_m.columns)):\n",
    "\n",
    "                dfx_m.iloc[(i-2)*10+j].loc[dfx_m.columns[k]]=dfx.iloc[i].loc[dfx_m.columns[k]]\n",
    "\n",
    "    df=pd.concat([dfx_m, dfl_diff], axis=1)\n",
    "    df=df.dropna(how='any')\n",
    "\n",
    "    Index=np.arange(int(df.iloc[0].loc['Slice']),int(df.iloc[df.shape[0]-1].loc['Slice']+1),1)\n",
    "\n",
    "    df_mean=pd.DataFrame(index=Index,columns=[])\n",
    "\n",
    "    for i in range(0,len(df.columns)):\n",
    "\n",
    "        df_mean[df.columns[i]]=0\n",
    "\n",
    "    for i_n in range(int(df.iloc[0].loc['Slice']),int(df.iloc[df.shape[0]-1].loc['Slice']+1)):\n",
    "\n",
    "        i = i_n - int(df.iloc[0].loc['Slice'])\n",
    "\n",
    "        df_mean.iloc[i].loc['Slice']=i_n\n",
    "\n",
    "        dfs = df[df['Slice']==i_n]\n",
    "\n",
    "        for k in range(0,df.columns.get_loc('Time2')+1):\n",
    "\n",
    "            df_mean.iloc[i,k]=dfs.iloc[0,k]\n",
    "\n",
    "        for j in range(dfs.columns.get_loc(' C000'),dfs.columns.get_loc(' C261')+1):\n",
    "\n",
    "            df_mean.iloc[i,j]=dfs[dfs.columns[j]].mean()\n",
    "            \n",
    "    dfmean=df_mean.diff()\n",
    "    dfmean.loc[:,:'Time2']=df_mean.loc[:,:'Time2']\n",
    "    dfmean=dfmean.dropna(how='any')\n",
    "    \n",
    "    dfmean_std=pd.DataFrame(columns=dfmean.columns,index=dfmean.index)\n",
    "    for k in range(dfmean_std.columns.get_loc('Slice'),dfmean_std.columns.get_loc(' C000')):\n",
    "        dfmean_std[dfmean_std.columns[k]]=dfmean[dfmean_std.columns[k]]\n",
    "    for i in range(dfmean_std.columns.get_loc(' C000'),dfmean_std.columns.get_loc(' C261')+1):\n",
    "        for j in range(0,dfmean_std.shape[0]):\n",
    "            dfmean_std.iloc[j,i]=((dfmean.iloc[j,i]-dfmean[dfmean_std.columns[i]].mean())/dfmean[dfmean_std.columns[i]].std())\n",
    "\n",
    "    \n",
    "    dfmean_all=pd.concat([dfmean_all,dfmean_std])\n",
    "\n",
    "for j in range(dfmean_all.columns.get_loc(' C212'),dfmean_all.columns.get_loc(' C261')+1):\n",
    "    \n",
    "    dfmean_heat=pd.DataFrame()\n",
    "    \n",
    "    ts=4.0\n",
    "    \n",
    "    dfmean_heat=dfmean_all[dfmean_all[dfmean_all.columns[j]]>=ts]\n",
    "    \n",
    "    fig = plt.figure()\n",
    "    ax = fig.add_subplot(111)\n",
    "\n",
    "    H = ax.hist2d(dfmean_heat['X'],dfmean_heat['Y'], bins=20,range=[[0,250],[0,200]],normed=True,cmap=cm.jet)\n",
    "    #ax.set_title('1st graph')\n",
    "    ax.set_xlabel('x')\n",
    "    ax.set_ylabel('y')\n",
    "    ax.set_xlim(0,250)\n",
    "    ax.set_ylim(0,200)\n",
    "    H[3].set_clim(0,0.003)\n",
    "    fig.colorbar(H[3],ax=ax)\n",
    "    \n",
    "    #plt.show()\n",
    "\n",
    "\n",
    "    plt.xlabel('x')\n",
    "    plt.ylabel('y')             \n",
    "    title_name='fig4/heatdiff_mouse%s_ts%s_%s' % (mouse,ts,dfmean_all.columns[j])\n",
    "    plt.title(title_name)\n",
    "    file_name=title_name+'.png'\n",
    "    plt.savefig(file_name)\n",
    "    plt.figure(figsize=(5.4, 3.6), dpi=80)\n",
    "    plt.show()\n",
    "    \n",
    "\"\"\""
   ]
  },
  {
   "cell_type": "code",
   "execution_count": null,
   "metadata": {
    "collapsed": true
   },
   "outputs": [],
   "source": [
    "max(3,5)"
   ]
  },
  {
   "cell_type": "code",
   "execution_count": null,
   "metadata": {
    "collapsed": true
   },
   "outputs": [],
   "source": []
  },
  {
   "cell_type": "code",
   "execution_count": null,
   "metadata": {
    "collapsed": true
   },
   "outputs": [],
   "source": []
  }
 ],
 "metadata": {
  "kernelspec": {
   "display_name": "Python 3",
   "language": "python",
   "name": "python3"
  },
  "language_info": {
   "codemirror_mode": {
    "name": "ipython",
    "version": 3
   },
   "file_extension": ".py",
   "mimetype": "text/x-python",
   "name": "python",
   "nbconvert_exporter": "python",
   "pygments_lexer": "ipython3",
   "version": "3.6.8"
  }
 },
 "nbformat": 4,
 "nbformat_minor": 2
}
