{
 "cells": [
  {
   "cell_type": "markdown",
   "metadata": {},
   "source": [
    "ヒートマップの作成(heatmeannum)<br>\n",
    "<方針><br>\n",
    "・フェーズごとと全フェーズ合算の二種類で行う<br>\n",
    "・各colorが示す値は、そのエリアに存在した回数"
   ]
  },
  {
   "cell_type": "code",
   "execution_count": 5,
   "metadata": {
    "collapsed": true
   },
   "outputs": [],
   "source": [
    "#import modules\n",
    "\n",
    "#dataframe\n",
    "import pandas as pd\n",
    "\n",
    "#number processing\n",
    "import numpy as np\n",
    "\n",
    "#standard scaling\n",
    "from sklearn.preprocessing import StandardScaler\n",
    "\n",
    "#plotting\n",
    "import matplotlib\n",
    "matplotlib.use('Agg')\n",
    "import matplotlib.pyplot as plt\n",
    "\n",
    "#heatmap\n",
    "import seaborn as sns\n",
    "\n",
    "#math\n",
    "import math\n",
    "\n",
    "from tqdm import tqdm_notebook as tqdm"
   ]
  },
  {
   "cell_type": "code",
   "execution_count": 6,
   "metadata": {
    "collapsed": true
   },
   "outputs": [],
   "source": [
    "#make the list\n",
    "\n",
    "#mouse\n",
    "mouse_list = [\"ID138464-1\",\"ID138464-2\",\"ID138464-3\",\"ID138464-4\",\"ID138464-5\",\"ID138464-6\"]\n",
    "#all phase \n",
    "phaseall_list=[\"HC1\",\"B1\",\"B2\",\"HC2\",\"A1\",\"A2\",\"A31\",\"A32\",\"A41\",\"A42\",\"HC3\",\"A5\",\"B3\",\"A6\",\"A7\",\"HC4\",\"B4\"]\n",
    "#phase targeted for anlysis\n",
    "#phase_list=[\"A1\",\"A2\",\"A31\",\"A32\",\"A41\",\"A42\",\"A5\",\"A6\",\"A7\"]\n",
    "phase_list=[\"B1\",\"B2\",\"B3\",\"B4\"]"
   ]
  },
  {
   "cell_type": "markdown",
   "metadata": {},
   "source": [
    "現在のバージョン(phaseごと)"
   ]
  },
  {
   "cell_type": "code",
   "execution_count": 7,
   "metadata": {},
   "outputs": [
    {
     "name": "stderr",
     "output_type": "stream",
     "text": [
      "/Users/rentakakura/anaconda/envs/jupyter-env/lib/python3.6/site-packages/matplotlib/pyplot.py:524: RuntimeWarning: More than 20 figures have been opened. Figures created through the pyplot interface (`matplotlib.pyplot.figure`) are retained until explicitly closed and may consume too much memory. (To control this warning, see the rcParam `figure.max_open_warning`).\n",
      "  max_open_warning, RuntimeWarning)\n"
     ]
    }
   ],
   "source": [
    "#分析実行\n",
    "\n",
    "\n",
    "for m in range(0,6):\n",
    "\n",
    "    mouse = mouse_list[m]\n",
    "\n",
    "    #フェーズごと\n",
    "    #ケージAについて標準化処理済みのデータについてフェーズを全て結合して、ヒートマップ:heatmeanAbrgprob(X:x,Y:y,heat:p(訪れた時にdiff?>ts))の作成を作成\n",
    "    #スライスごとの平均値でダウンサンプリング処理済み\n",
    "    #一度もマウスがvisitしなかった場所はblueで示し、visitを一回以上したマスに対して赤色系統でheatmap作成\n",
    "    #gaussian kernelを使用:exp(-(1マスを単位とした距離の二乗))を前後左右2マス未満に適用(周辺8個)\n",
    "    #tsは、最適なものは2\n",
    "    dfmap=pd.DataFrame(index=np.arange(195,-5,-200/10),columns=np.arange(6.25,256.25,250/10))\n",
    "    dfmap_d=pd.DataFrame(index=np.arange(195,-5,-200/10),columns=np.arange(6.25,256.25,250/10))\n",
    "        \n",
    "    for ph in range(len(phase_list)):\n",
    "\n",
    "        phase=phase_list[ph]\n",
    "        \n",
    "        inputf='%s/python/%s_%s_meanstd.csv' %(mouse,mouse,phase)\n",
    "        dfmeanstd_phase=pd.read_csv(inputf,header=0)    \n",
    "\n",
    "        for i in range(0,10):\n",
    "\n",
    "            for j in range(0,10):\n",
    "\n",
    "                d=dfmeanstd_phase[(dfmeanstd_phase['X']>float(dfmap.columns[i]-12.5)) & (dfmeanstd_phase['X']<float(dfmap.columns[i]+12.5)) & (dfmeanstd_phase['Y']>float(dfmap.index[j]-10)) & (dfmeanstd_phase['Y']<float(dfmap.index[j]+10) )].shape[0]\n",
    "\n",
    "                dfmap_d.iloc[i,j]=d\n",
    "\n",
    "        dfmap_dT=dfmap_d.T\n",
    "\n",
    "        dfmap_dT=dfmap_dT.astype(float)\n",
    "\n",
    "        plt.figure()\n",
    "        plt.figure(figsize=(5.4, 3.6), dpi=80)\n",
    "        #title_name='heatexistAphasenum_%s' % (phase)\n",
    "        title_name='heatexistBphasenum_%s' % (phase)\n",
    "        file_name='%s/python/%s_fig/'%(mouse,mouse)+title_name+'.png'\n",
    "        plt.title(title_name)\n",
    "        plt.xlabel('x')\n",
    "        plt.ylabel('y')\n",
    "        sns.heatmap(dfmap_dT,vmin=0,vmax=dfmeanstd_phase.shape[0]/2,center=0.0,cmap='seismic',xticklabels=np.arange(25,250+1,25),yticklabels=np.arange(200,19,-20))\n",
    "        plt.savefig(file_name)"
   ]
  },
  {
   "cell_type": "markdown",
   "metadata": {},
   "source": [
    "現在バージョン(全フェーズ結合)"
   ]
  },
  {
   "cell_type": "code",
   "execution_count": 8,
   "metadata": {},
   "outputs": [
    {
     "name": "stderr",
     "output_type": "stream",
     "text": [
      "/Users/rentakakura/anaconda/envs/jupyter-env/lib/python3.6/site-packages/matplotlib/pyplot.py:524: RuntimeWarning: More than 20 figures have been opened. Figures created through the pyplot interface (`matplotlib.pyplot.figure`) are retained until explicitly closed and may consume too much memory. (To control this warning, see the rcParam `figure.max_open_warning`).\n",
      "  max_open_warning, RuntimeWarning)\n"
     ]
    }
   ],
   "source": [
    "#分析実行\n",
    "\n",
    "for m in range(0,len(mouse_list)):\n",
    "\n",
    "    mouse = mouse_list[m]\n",
    "    \n",
    "    #ケージAについて標準化処理済みのデータについてフェーズを全て結合して、ヒートマップ:heatmeanAbrgprob(X:x,Y:y,heat:p(訪れた時にdiff?>ts))の作成を作成\n",
    "    #スライスごとの平均値でダウンサンプリング処理済み\n",
    "    #一度もマウスがvisitしなかった場所はblueで示し、visitを一回以上したマスに対して赤色系統でheatmap作成\n",
    "    #gaussian kernelを使用:exp(-(1マスを単位とした距離の二乗))を前後左右2マス未満に適用(周辺8個)\n",
    "    #tsは、最適なものは2\n",
    "    inputf='%s/python/%s_meanstdall.csv' %(mouse,mouse)          \n",
    "    dfmeanstd_all=pd.read_csv(inputf,header=0)\n",
    "    dfmap=pd.DataFrame(index=np.arange(195,-5,-200/10),columns=np.arange(6.25,256.25,250/10))\n",
    "    dfmap_d=pd.DataFrame(index=np.arange(195,-5,-200/10),columns=np.arange(6.25,256.25,250/10))\n",
    "                \n",
    "    for i in range(0,10):\n",
    "        \n",
    "        for j in range(0,10):\n",
    "\n",
    "                d=dfmeanstd_all[(dfmeanstd_all['X']>float(dfmap.columns[i]-12.5)) & (dfmeanstd_all['X']<float(dfmap.columns[i]+12.5)) & (dfmeanstd_all['Y']>float(dfmap.index[j]-10)) & (dfmeanstd_all['Y']<float(dfmap.index[j]+10) )].shape[0]\n",
    "\n",
    "                dfmap_d.iloc[i,j]=d\n",
    "                \n",
    "    dfmap_dT=dfmap_d.T\n",
    "\n",
    "    dfmap_dT=dfmap_dT.astype(float)\n",
    "\n",
    "    plt.figure()\n",
    "    plt.figure(figsize=(5.4, 3.6), dpi=80)\n",
    "    #title_name='heatexistAnum'\n",
    "    title_name='heatexistBnum'\n",
    "    file_name='%s/python/%s_fig/'%(mouse,mouse)+title_name+'.png'\n",
    "    plt.title(title_name)\n",
    "    plt.xlabel('x')\n",
    "    plt.ylabel('y')\n",
    "    sns.heatmap(dfmap_dT,vmin=0,vmax=dfmeanstd_all.shape[0]/2,center=0.0,cmap='seismic',xticklabels=np.arange(25,250+1,25),yticklabels=np.arange(200,19,-20))\n",
    "    plt.savefig(file_name)\n",
    "            \n",
    "            "
   ]
  },
  {
   "cell_type": "code",
   "execution_count": null,
   "metadata": {
    "collapsed": true
   },
   "outputs": [],
   "source": []
  },
  {
   "cell_type": "code",
   "execution_count": null,
   "metadata": {
    "collapsed": true
   },
   "outputs": [],
   "source": []
  },
  {
   "cell_type": "code",
   "execution_count": null,
   "metadata": {
    "collapsed": true
   },
   "outputs": [],
   "source": []
  },
  {
   "cell_type": "code",
   "execution_count": null,
   "metadata": {
    "collapsed": true
   },
   "outputs": [],
   "source": []
  },
  {
   "cell_type": "code",
   "execution_count": null,
   "metadata": {
    "collapsed": true
   },
   "outputs": [],
   "source": []
  }
 ],
 "metadata": {
  "kernelspec": {
   "display_name": "Python 3",
   "language": "python",
   "name": "python3"
  },
  "language_info": {
   "codemirror_mode": {
    "name": "ipython",
    "version": 3
   },
   "file_extension": ".py",
   "mimetype": "text/x-python",
   "name": "python",
   "nbconvert_exporter": "python",
   "pygments_lexer": "ipython3",
   "version": "3.6.8"
  }
 },
 "nbformat": 4,
 "nbformat_minor": 2
}
