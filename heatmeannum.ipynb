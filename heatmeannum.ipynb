{
 "cells": [
  {
   "cell_type": "markdown",
   "metadata": {},
   "source": [
    "ヒートマップの作成(heatmeannum)<br>\n",
    "<方針><br>\n",
    "・フェーズごとと全フェーズ合算の二種類で行う<br>\n",
    "・各cell各フェーズにおいて、standard(標準化)を使う<br>\n",
    "・標準化後の値が2.0以上のものを「活動状態」の判定基準とする<br>\n",
    "・各cellのcolorが示す値は、そのエリアに存在した時に、「活動状態」だった回数"
   ]
  },
  {
   "cell_type": "code",
   "execution_count": null,
   "metadata": {
    "collapsed": true
   },
   "outputs": [],
   "source": [
    "#import modules\n",
    "\n",
    "#dataframe\n",
    "import pandas as pd\n",
    "\n",
    "#number processing\n",
    "import numpy as np\n",
    "\n",
    "#standard scaling\n",
    "from sklearn.preprocessing import StandardScaler\n",
    "\n",
    "#plotting\n",
    "import matplotlib\n",
    "matplotlib.use('Agg')\n",
    "import matplotlib.pyplot as plt\n",
    "\n",
    "#heatmap\n",
    "import seaborn as sns\n",
    "\n",
    "#math\n",
    "import math"
   ]
  },
  {
   "cell_type": "code",
   "execution_count": 1,
   "metadata": {
    "collapsed": true
   },
   "outputs": [],
   "source": [
    "#make the list\n",
    "\n",
    "#mouse\n",
    "mouse_list = [\"ID138464-1\",\"ID138464-2\",\"ID138464-3\",\"ID138464-4\",\"ID138464-5\",\"ID138464-6\"]\n",
    "#all phase \n",
    "phaseall_list=[\"HC1\",\"B1\",\"B2\",\"HC2\",\"A1\",\"A2\",\"A31\",\"A32\",\"A41\",\"A42\",\"HC3\",\"A5\",\"B3\",\"A6\",\"A7\",\"HC4\",\"B4\"]\n",
    "#phase targeted for anlysis\n",
    "phase_list=[\"A1\",\"A2\",\"A31\",\"A32\",\"A41\",\"A42\",\"A5\",\"A6\",\"A7\"]"
   ]
  },
  {
   "cell_type": "markdown",
   "metadata": {},
   "source": [
    "現在のバージョン(phaseごと)"
   ]
  },
  {
   "cell_type": "code",
   "execution_count": null,
   "metadata": {
    "collapsed": true
   },
   "outputs": [],
   "source": [
    "#分析実行\n",
    "\n",
    "\n",
    "for m in range(0,6):\n",
    "\n",
    "    mouse = mouse_list[m]\n",
    "    \n",
    "    #神経データをデータフレームにインポートする\n",
    "    inputf='%s/python/%s_Longitudinal_Traces.csv' %(mouse,mouse)\n",
    "    dff=pd.read_csv(inputf,header=0)\n",
    "    dff0=pd.DataFrame()\n",
    "\n",
    "    #Acceptのみを抽出したデータフレームの作成\n",
    "    dff0=dff.iloc[0,:]\n",
    "    Accept=dff0.index[dff0==' accepted']\n",
    "    dfa=pd.DataFrame()\n",
    "    dfa['Time2']=dff.iloc[1:,0]\n",
    "    for accept_c in range (0,len(Accept)):\n",
    "        dfa[Accept[accept_c]]=dff[Accept[accept_c]].iloc[1:]\n",
    "        dfa=dfa.astype('float')\n",
    "\n",
    "    #Acceptcellのfirst cellとlast cellを抽出\n",
    "    cell_f=dfa.columns[1]\n",
    "    cell_l=dfa.columns[dfa.shape[1]-1]\n",
    "    \n",
    "    #フェーズごと\n",
    "    #ケージAについて標準化処理済みのデータについてフェーズを全て結合して、ヒートマップ:heatmeanAbrgprob(X:x,Y:y,heat:p(訪れた時にdiff?>ts))の作成を作成\n",
    "    #スライスごとの平均値でダウンサンプリング処理済み\n",
    "    #一度もマウスがvisitしなかった場所はblueで示し、visitを一回以上したマスに対して赤色系統でheatmap作成\n",
    "    #gaussian kernelを使用:exp(-(1マスを単位とした距離の二乗))を前後左右2マス未満に適用(周辺8個)\n",
    "    #tsは、最適なものは2\n",
    "    dfmap=pd.DataFrame(index=np.arange(195,-5,-200/10),columns=np.arange(6.25,256.25,250/10))\n",
    "    dfmap_d=pd.DataFrame(index=np.arange(195,-5,-200/10),columns=np.arange(6.25,256.25,250/10))\n",
    "        \n",
    "    for ph in range(len(phase_list)):\n",
    "\n",
    "        phase=phase_list[ph]\n",
    "        \n",
    "        inputf='%s/python/%s_%s_mean.csv' %(mouse,mouse,phase)\n",
    "        dfmeanstd_phase=pd.read_csv(inputf,header=0)    \n",
    "\n",
    "        for ts in range(2,3):\n",
    "\n",
    "            for cell in range(dfmeanstd_phase.columns.get_loc(cell_f),dfmeanstd_phase.columns.get_loc(cell_l)+1):\n",
    "\n",
    "                dfmap=pd.DataFrame(index=np.arange(195,-5,-200/10),columns=np.arange(6.25,256.25,250/10))\n",
    "                dfmap_d=pd.DataFrame(index=np.arange(195,-5,-200/10),columns=np.arange(6.25,256.25,250/10))\n",
    "\n",
    "                for i in range(0,10):\n",
    "\n",
    "                    for j in range(0,10):\n",
    "\n",
    "                        d=dfmeanstd_phase[(dfmeanstd_phase['X']>float(dfmap.columns[i]-12.5)) & (dfmeanstd_phase['X']<float(dfmap.columns[i]+12.5)) & (dfmeanstd_phase['Y']>float(dfmap.index[j]-10)) & (dfmeanstd_phase['Y']<float(dfmap.index[j]+10) )& (dfmeanstd_phase[dfmeanstd_phase.columns[cell]]>ts)].shape[0]\n",
    "\n",
    "                        dfmap_d.iloc[i,j]=d\n",
    "                \n",
    "                dfmap_dT=dfmap_d.T\n",
    "\n",
    "                dfmap_dT=dfmap_dT.astype(float)\n",
    "\n",
    "                plt.figure()\n",
    "                title_name='heatmeanAphasenum_ts%s_%s_%s' % (ts,dfmeanstd_phase.columns[cell],phase)\n",
    "                file_name='%s/python/%s_fig/'%(mouse,mouse)+title_name+'.png'\n",
    "                plt.title(title_name)\n",
    "                plt.xlabel('x')\n",
    "                plt.ylabel('y')\n",
    "                sns.heatmap(dfmap_dT,vmin=0,vmax=20,center=0.0,cmap='seismic',xticklabels=np.arange(25,250+1,25),yticklabels=np.arange(200,19,-20))\n",
    "                plt.savefig(file_name)"
   ]
  },
  {
   "cell_type": "markdown",
   "metadata": {},
   "source": [
    "現在バージョン(全フェーズ結合)"
   ]
  },
  {
   "cell_type": "code",
   "execution_count": null,
   "metadata": {
    "collapsed": true
   },
   "outputs": [],
   "source": [
    "#分析実行\n",
    "\n",
    "for m in range(0,len(mouse_list)):\n",
    "\n",
    "    mouse = mouse_list[m]\n",
    "    \n",
    "    #神経データをデータフレームにインポートする\n",
    "    inputf='%s/python/%s_Longitudinal_Traces.csv' %(mouse,mouse)\n",
    "    dff=pd.read_csv(inputf,header=0)\n",
    "    dff0=pd.DataFrame()\n",
    "\n",
    "    #Acceptのみを抽出したデータフレームの作成\n",
    "    dff0=dff.iloc[0,:]\n",
    "    Accept=dff0.index[dff0==' accepted']\n",
    "    dfa=pd.DataFrame()\n",
    "    dfa['Time2']=dff.iloc[1:,0]\n",
    "    for accept_c in range (0,len(Accept)):\n",
    "        dfa[Accept[accept_c]]=dff[Accept[accept_c]].iloc[1:]\n",
    "        dfa=dfa.astype('float')\n",
    "\n",
    "    #Acceptcellのfirst cellとlast cellを抽出\n",
    "    cell_f=dfa.columns[1]\n",
    "    cell_l=dfa.columns[dfa.shape[1]-1]\n",
    "    \n",
    "    #ケージAについて標準化処理済みのデータについてフェーズを全て結合して、ヒートマップ:heatmeanAbrgprob(X:x,Y:y,heat:p(訪れた時にdiff?>ts))の作成を作成\n",
    "    #スライスごとの平均値でダウンサンプリング処理済み\n",
    "    #一度もマウスがvisitしなかった場所はblueで示し、visitを一回以上したマスに対して赤色系統でheatmap作成\n",
    "    #gaussian kernelを使用:exp(-(1マスを単位とした距離の二乗))を前後左右2マス未満に適用(周辺8個)\n",
    "    #tsは、最適なものは2\n",
    "    inputf='%s/python/%s_meanstdall.csv' %(mouse,mouse)          \n",
    "    dfmeanstd_all=pd.read_csv(inputf,header=0)\n",
    "    dfmap=pd.DataFrame(index=np.arange(195,-5,-200/10),columns=np.arange(6.25,256.25,250/10))\n",
    "    dfmap_d=pd.DataFrame(index=np.arange(195,-5,-200/10),columns=np.arange(6.25,256.25,250/10))\n",
    "                \n",
    "    for ts in range(2,3):\n",
    "\n",
    "        for cell in range(dfmeanstd_all.columns.get_loc(cell_f),dfmeanstd_all.columns.get_loc(cell_l)+1):\n",
    "            \n",
    "            dfmap=pd.DataFrame(index=np.arange(195,-5,-200/10),columns=np.arange(6.25,256.25,250/10))\n",
    "            dfmap_d=pd.DataFrame(index=np.arange(195,-5,-200/10),columns=np.arange(6.25,256.25,250/10))\n",
    "\n",
    "            for i in range(0,10):\n",
    "\n",
    "                d=dfmeanstd_all[(dfmeanstd_all['X']>float(dfmap.columns[i]-12.5)) & (dfmeanstd_all['X']<float(dfmap.columns[i]+12.5)) & (dfmeanstd_all['Y']>float(dfmap.index[j]-10)) & (dfmeanstd_all['Y']<float(dfmap.index[j]+10) )& (dfmeanstd_all[dfmeanstd_all.columns[cell]]>ts)].shape[0]\n",
    "\n",
    "\n",
    "                dfmap_d.iloc[i,j]=d\n",
    "                \n",
    "                dfmap_dT=dfmap_d.T\n",
    "\n",
    "                dfmap_dT=dfmap_dT.astype(float)\n",
    "\n",
    "            plt.figure()\n",
    "            title_name='heatmeanAnum_ts%s_%s' % (ts,dfmeanstd_all.columns[cell])\n",
    "            file_name='%s/python/%s_fig/'%(mouse,mouse)+title_name+'.png'\n",
    "            plt.title(title_name)\n",
    "            plt.xlabel('x')\n",
    "            plt.ylabel('y')\n",
    "            sns.heatmap(dfmap_g_norm,vmin=0,vmax=20,center=0.0,cmap='seismic',xticklabels=np.arange(25,250+1,25),yticklabels=np.arange(200,19,-20))\n",
    "            plt.savefig(file_name)\n",
    "            \n",
    "            "
   ]
  },
  {
   "cell_type": "code",
   "execution_count": null,
   "metadata": {
    "collapsed": true
   },
   "outputs": [],
   "source": []
  },
  {
   "cell_type": "code",
   "execution_count": null,
   "metadata": {
    "collapsed": true
   },
   "outputs": [],
   "source": []
  },
  {
   "cell_type": "code",
   "execution_count": null,
   "metadata": {
    "collapsed": true
   },
   "outputs": [],
   "source": []
  },
  {
   "cell_type": "code",
   "execution_count": null,
   "metadata": {
    "collapsed": true
   },
   "outputs": [],
   "source": []
  },
  {
   "cell_type": "code",
   "execution_count": null,
   "metadata": {
    "collapsed": true
   },
   "outputs": [],
   "source": []
  }
 ],
 "metadata": {
  "kernelspec": {
   "display_name": "Python 3",
   "language": "python",
   "name": "python3"
  },
  "language_info": {
   "codemirror_mode": {
    "name": "ipython",
    "version": 3
   },
   "file_extension": ".py",
   "mimetype": "text/x-python",
   "name": "python",
   "nbconvert_exporter": "python",
   "pygments_lexer": "ipython3",
   "version": "3.6.8"
  }
 },
 "nbformat": 4,
 "nbformat_minor": 2
}
