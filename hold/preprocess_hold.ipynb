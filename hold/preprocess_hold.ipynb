{
 "cells": [
  {
   "cell_type": "markdown",
   "metadata": {},
   "source": [
    "import pandas as pd\n",
    "from sklearn import datasets\n",
    "from sklearn.preprocessing import StandardScaler\n",
    "from statistics import median\n",
    "import numpy as np\n",
    "sc = StandardScaler()\n",
    "\n",
    "df = pd.read_csv('data_train.csv', header=0)\n",
    "\n",
    "X = df.iloc[0:10000,[1,2,3,4,5,6,7,8,9,10,11,13]]"
   ]
  },
  {
   "cell_type": "code",
   "execution_count": 2,
   "metadata": {},
   "outputs": [],
   "source": [
    "import pandas as pd\n",
    "import numpy as np\n",
    "\n",
    "Index=[\"A1\",\"A2\",\"A31\",\"A32\",\"A41\",\"A42\",\"A5\",\"A6\",\"A7\",\"B1\",\"B2\",\"B3\",\"B4\"]\n",
    "\n",
    "for index in range(0,len(Index)):\n",
    "    \n",
    "    inputXY='ID138464-6_%s_XY.txt' %(Index[index])\n",
    "\n",
    "    df = pd.read_table(inputXY,header=0)\n",
    "    \n",
    "    inputT='ID138464-6_long_trace_%s.csv'%(Index[index])\n",
    "\n",
    "    df1=pd.read_csv(inputT,header=0)\n",
    "\n",
    "    dfa=np.array(df)\n",
    "\n",
    "    df1a=np.array(df1)\n",
    "\n",
    "    out='ID138464-6_%s_conv.txt'%(Index[index])\n",
    "\n",
    "    fout = open(out,'w')\n",
    "\n",
    "    for i in range(0,df.shape[1]):\n",
    "    \n",
    "        fout.write(str(df.columns[i])+\" \")\n",
    "\n",
    "    for i in range(0,df1.shape[1]):\n",
    "    \n",
    "        fout.write(str(df1.columns[i])+\" \")\n",
    "        \n",
    "    fout.write(\"\\n\")\n",
    "\n",
    "    for i in range(2,df.shape[0]-1):\n",
    "\n",
    "        for j in range(0,10):\n",
    "    \n",
    "            for k in range(0, df.shape[1]):\n",
    "            \n",
    "                fout.write(str(dfa[i][k])+\" \")\n",
    "            \n",
    "            for l in range(0,df1.shape[1]):\n",
    "            \n",
    "                fout.write(str(df1a[10*(i-2)+j][l])+\" \")\n",
    "            \n",
    "            fout.write(\"\\n\")\n",
    "            \n",
    "    fout.close()"
   ]
  },
  {
   "cell_type": "markdown",
   "metadata": {},
   "source": []
  },
  {
   "cell_type": "code",
   "execution_count": null,
   "metadata": {
    "collapsed": true
   },
   "outputs": [],
   "source": []
  }
 ],
 "metadata": {
  "kernelspec": {
   "display_name": "Python 3",
   "language": "python",
   "name": "python3"
  },
  "language_info": {
   "codemirror_mode": {
    "name": "ipython",
    "version": 3
   },
   "file_extension": ".py",
   "mimetype": "text/x-python",
   "name": "python",
   "nbconvert_exporter": "python",
   "pygments_lexer": "ipython3",
   "version": "3.6.5"
  }
 },
 "nbformat": 4,
 "nbformat_minor": 2
}
