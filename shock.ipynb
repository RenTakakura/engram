{
 "cells": [
  {
   "cell_type": "code",
   "execution_count": 1,
   "metadata": {},
   "outputs": [],
   "source": [
    "import numpy as np\n",
    "import pandas as pd\n",
    "import matplotlib\n",
    "#matplotlib.use('Agg')\n",
    "%matplotlib inline\n",
    "import matplotlib.pyplot as plt"
   ]
  },
  {
   "cell_type": "code",
   "execution_count": 5,
   "metadata": {},
   "outputs": [],
   "source": [
    "mouse_list = [\"\",\"1\",\"2\",\"3\",\"4\",\"5\",\"6\"]\n",
    "\n",
    "phase_list=[\"A1\",\"A2\",\"A31\",\"A32\",\"A41\",\"A42\",\"A5\",\"A6\",\"A7\"]\n",
    "\n",
    "mouse = mouse_list[6]\n",
    "\n",
    "phase=phase_list[7]\n",
    "\n",
    "inputXY='ID138464-%s_%s_XY.txt' %(mouse,phase)\n",
    "\n",
    "df = pd.read_table(inputXY,header=0)"
   ]
  },
  {
   "cell_type": "code",
   "execution_count": 6,
   "metadata": {},
   "outputs": [
    {
     "data": {
      "text/html": [
       "<div>\n",
       "<table border=\"1\" class=\"dataframe\">\n",
       "  <thead>\n",
       "    <tr style=\"text-align: right;\">\n",
       "      <th></th>\n",
       "      <th>Slice</th>\n",
       "      <th>X</th>\n",
       "      <th>Y</th>\n",
       "      <th>AREA</th>\n",
       "      <th>XOR</th>\n",
       "      <th>FZ</th>\n",
       "      <th>conseqFZ</th>\n",
       "      <th>Distance</th>\n",
       "      <th>Tone</th>\n",
       "      <th>Shock</th>\n",
       "      <th>Light</th>\n",
       "    </tr>\n",
       "  </thead>\n",
       "  <tbody>\n",
       "    <tr>\n",
       "      <th>617</th>\n",
       "      <td>617</td>\n",
       "      <td>66</td>\n",
       "      <td>169</td>\n",
       "      <td>1303</td>\n",
       "      <td>4</td>\n",
       "      <td>1</td>\n",
       "      <td>2</td>\n",
       "      <td>0.1</td>\n",
       "      <td>1</td>\n",
       "      <td>1</td>\n",
       "      <td>0</td>\n",
       "    </tr>\n",
       "    <tr>\n",
       "      <th>618</th>\n",
       "      <td>618</td>\n",
       "      <td>191</td>\n",
       "      <td>158</td>\n",
       "      <td>1445</td>\n",
       "      <td>2305</td>\n",
       "      <td>0</td>\n",
       "      <td>0</td>\n",
       "      <td>14.2</td>\n",
       "      <td>1</td>\n",
       "      <td>1</td>\n",
       "      <td>0</td>\n",
       "    </tr>\n",
       "    <tr>\n",
       "      <th>619</th>\n",
       "      <td>619</td>\n",
       "      <td>234</td>\n",
       "      <td>142</td>\n",
       "      <td>1452</td>\n",
       "      <td>2314</td>\n",
       "      <td>0</td>\n",
       "      <td>0</td>\n",
       "      <td>5.2</td>\n",
       "      <td>1</td>\n",
       "      <td>1</td>\n",
       "      <td>0</td>\n",
       "    </tr>\n",
       "    <tr>\n",
       "      <th>620</th>\n",
       "      <td>620</td>\n",
       "      <td>34</td>\n",
       "      <td>117</td>\n",
       "      <td>651</td>\n",
       "      <td>2121</td>\n",
       "      <td>0</td>\n",
       "      <td>0</td>\n",
       "      <td>22.7</td>\n",
       "      <td>1</td>\n",
       "      <td>1</td>\n",
       "      <td>0</td>\n",
       "    </tr>\n",
       "    <tr>\n",
       "      <th>797</th>\n",
       "      <td>797</td>\n",
       "      <td>51</td>\n",
       "      <td>185</td>\n",
       "      <td>1206</td>\n",
       "      <td>0</td>\n",
       "      <td>1</td>\n",
       "      <td>2</td>\n",
       "      <td>0.1</td>\n",
       "      <td>1</td>\n",
       "      <td>1</td>\n",
       "      <td>0</td>\n",
       "    </tr>\n",
       "    <tr>\n",
       "      <th>798</th>\n",
       "      <td>798</td>\n",
       "      <td>167</td>\n",
       "      <td>172</td>\n",
       "      <td>1554</td>\n",
       "      <td>2352</td>\n",
       "      <td>0</td>\n",
       "      <td>0</td>\n",
       "      <td>13.2</td>\n",
       "      <td>1</td>\n",
       "      <td>1</td>\n",
       "      <td>0</td>\n",
       "    </tr>\n",
       "    <tr>\n",
       "      <th>799</th>\n",
       "      <td>799</td>\n",
       "      <td>176</td>\n",
       "      <td>28</td>\n",
       "      <td>1739</td>\n",
       "      <td>2862</td>\n",
       "      <td>0</td>\n",
       "      <td>0</td>\n",
       "      <td>17.5</td>\n",
       "      <td>1</td>\n",
       "      <td>1</td>\n",
       "      <td>0</td>\n",
       "    </tr>\n",
       "    <tr>\n",
       "      <th>800</th>\n",
       "      <td>800</td>\n",
       "      <td>53</td>\n",
       "      <td>120</td>\n",
       "      <td>1701</td>\n",
       "      <td>2978</td>\n",
       "      <td>0</td>\n",
       "      <td>0</td>\n",
       "      <td>17.8</td>\n",
       "      <td>1</td>\n",
       "      <td>1</td>\n",
       "      <td>0</td>\n",
       "    </tr>\n",
       "    <tr>\n",
       "      <th>977</th>\n",
       "      <td>977</td>\n",
       "      <td>108</td>\n",
       "      <td>193</td>\n",
       "      <td>1285</td>\n",
       "      <td>0</td>\n",
       "      <td>1</td>\n",
       "      <td>19</td>\n",
       "      <td>0.0</td>\n",
       "      <td>1</td>\n",
       "      <td>1</td>\n",
       "      <td>0</td>\n",
       "    </tr>\n",
       "    <tr>\n",
       "      <th>978</th>\n",
       "      <td>978</td>\n",
       "      <td>108</td>\n",
       "      <td>193</td>\n",
       "      <td>1285</td>\n",
       "      <td>1488</td>\n",
       "      <td>0</td>\n",
       "      <td>0</td>\n",
       "      <td>0.0</td>\n",
       "      <td>1</td>\n",
       "      <td>1</td>\n",
       "      <td>0</td>\n",
       "    </tr>\n",
       "    <tr>\n",
       "      <th>979</th>\n",
       "      <td>979</td>\n",
       "      <td>215</td>\n",
       "      <td>64</td>\n",
       "      <td>1653</td>\n",
       "      <td>1782</td>\n",
       "      <td>0</td>\n",
       "      <td>0</td>\n",
       "      <td>19.8</td>\n",
       "      <td>1</td>\n",
       "      <td>1</td>\n",
       "      <td>0</td>\n",
       "    </tr>\n",
       "    <tr>\n",
       "      <th>980</th>\n",
       "      <td>980</td>\n",
       "      <td>212</td>\n",
       "      <td>167</td>\n",
       "      <td>1430</td>\n",
       "      <td>2660</td>\n",
       "      <td>0</td>\n",
       "      <td>0</td>\n",
       "      <td>12.6</td>\n",
       "      <td>1</td>\n",
       "      <td>1</td>\n",
       "      <td>0</td>\n",
       "    </tr>\n",
       "  </tbody>\n",
       "</table>\n",
       "</div>"
      ],
      "text/plain": [
       "     Slice    X    Y  AREA   XOR  FZ  conseqFZ  Distance  Tone  Shock  Light\n",
       "617    617   66  169  1303     4   1         2       0.1     1      1      0\n",
       "618    618  191  158  1445  2305   0         0      14.2     1      1      0\n",
       "619    619  234  142  1452  2314   0         0       5.2     1      1      0\n",
       "620    620   34  117   651  2121   0         0      22.7     1      1      0\n",
       "797    797   51  185  1206     0   1         2       0.1     1      1      0\n",
       "798    798  167  172  1554  2352   0         0      13.2     1      1      0\n",
       "799    799  176   28  1739  2862   0         0      17.5     1      1      0\n",
       "800    800   53  120  1701  2978   0         0      17.8     1      1      0\n",
       "977    977  108  193  1285     0   1        19       0.0     1      1      0\n",
       "978    978  108  193  1285  1488   0         0       0.0     1      1      0\n",
       "979    979  215   64  1653  1782   0         0      19.8     1      1      0\n",
       "980    980  212  167  1430  2660   0         0      12.6     1      1      0"
      ]
     },
     "execution_count": 6,
     "metadata": {},
     "output_type": "execute_result"
    }
   ],
   "source": [
    "df_shock=df[df['Shock']==1]\n",
    "df_shock"
   ]
  },
  {
   "cell_type": "code",
   "execution_count": 7,
   "metadata": {},
   "outputs": [
    {
     "data": {
      "text/plain": [
       "<matplotlib.figure.Figure at 0x113fd27f0>"
      ]
     },
     "execution_count": 7,
     "metadata": {},
     "output_type": "execute_result"
    },
    {
     "data": {
      "image/png": "[encoded data removed]",
      "text/plain": [
       "<matplotlib.figure.Figure at 0x1140533c8>"
      ]
     },
     "metadata": {},
     "output_type": "display_data"
    },
    {
     "data": {
      "text/plain": [
       "<matplotlib.figure.Figure at 0x113fd27f0>"
      ]
     },
     "metadata": {},
     "output_type": "display_data"
    }
   ],
   "source": [
    "#plt.plot(df[\"X\"],df[\"Y\"],marker=\"o\",color=\"blue\")\n",
    "plt.scatter(df_shock[\"X\"],df_shock[\"Y\"],marker=\"o\",color=\"red\")\n",
    "for i in range(0,df_shock.shape[0]):\n",
    "    plt.annotate(int(df_shock.iloc[i].loc[\"Slice\"]), (df_shock.iloc[i].loc[\"X\"], df_shock.iloc[i].loc[\"Y\"]),size=10)\n",
    "plt.xlim(0,250)\n",
    "plt.ylim(0,200)\n",
    "title_name='fig6/phase%s_shock_point_mouse%s_data%d' % (phase,mouse,df.shape[0])\n",
    "plt.title(title_name)\n",
    "file_name=title_name+'.png'\n",
    "plt.savefig(file_name)\n",
    "plt.figure()\n",
    "#plt.show()"
   ]
  },
  {
   "cell_type": "code",
   "execution_count": 11,
   "metadata": {},
   "outputs": [
    {
     "data": {
      "image/png": "[encoded data removed]",
      "text/plain": [
       "<matplotlib.figure.Figure at 0x1166abba8>"
      ]
     },
     "metadata": {},
     "output_type": "display_data"
    }
   ],
   "source": [
    "plt.fill([0,125,125,0],[0,0,100,100],color=\"lightpink\")\n",
    "plt.fill([0,125,125,0],[100,100,200,200],color=\"lightblue\")\n",
    "plt.fill([125,250,250,125],[0,0,100,100],color=\"silver\")\n",
    "plt.fill([125,250,250,125],[100,100,200,200],color=\"lightgreen\")\n",
    "plt.show()\n"
   ]
  },
  {
   "cell_type": "code",
   "execution_count": null,
   "metadata": {},
   "outputs": [],
   "source": []
  }
 ],
 "metadata": {
  "kernelspec": {
   "display_name": "Python 3",
   "language": "python",
   "name": "python3"
  },
  "language_info": {
   "codemirror_mode": {
    "name": "ipython",
    "version": 3
   },
   "file_extension": ".py",
   "mimetype": "text/x-python",
   "name": "python",
   "nbconvert_exporter": "python",
   "pygments_lexer": "ipython3",
   "version": "3.6.5"
  }
 },
 "nbformat": 4,
 "nbformat_minor": 2
}
