{
 "cells": [
  {
   "cell_type": "code",
   "execution_count": 12,
   "metadata": {},
   "outputs": [
    {
     "ename": "AttributeError",
     "evalue": "module 'pandas' has no attribute 'core'",
     "output_type": "error",
     "traceback": [
      "\u001b[0;31m---------------------------------------------------------------------------\u001b[0m",
      "\u001b[0;31mAttributeError\u001b[0m                            Traceback (most recent call last)",
      "\u001b[0;32m<ipython-input-12-761bfeb56851>\u001b[0m in \u001b[0;36m<module>\u001b[0;34m()\u001b[0m\n\u001b[0;32m----> 1\u001b[0;31m \u001b[0;32mimport\u001b[0m \u001b[0mpandas\u001b[0m \u001b[0;32mas\u001b[0m \u001b[0mpd\u001b[0m\u001b[0;34m\u001b[0m\u001b[0m\n\u001b[0m\u001b[1;32m      2\u001b[0m \u001b[0;32mimport\u001b[0m \u001b[0mnumpy\u001b[0m \u001b[0;32mas\u001b[0m \u001b[0mnp\u001b[0m\u001b[0;34m\u001b[0m\u001b[0m\n\u001b[1;32m      3\u001b[0m \u001b[0;32mfrom\u001b[0m \u001b[0msklearn\u001b[0m\u001b[0;34m.\u001b[0m\u001b[0mpreprocessing\u001b[0m \u001b[0;32mimport\u001b[0m \u001b[0mStandardScaler\u001b[0m\u001b[0;34m\u001b[0m\u001b[0m\n\u001b[1;32m      4\u001b[0m \u001b[0;32mimport\u001b[0m \u001b[0mmatplotlib\u001b[0m\u001b[0;34m\u001b[0m\u001b[0m\n\u001b[1;32m      5\u001b[0m \u001b[0mmatplotlib\u001b[0m\u001b[0;34m.\u001b[0m\u001b[0muse\u001b[0m\u001b[0;34m(\u001b[0m\u001b[0;34m'Agg'\u001b[0m\u001b[0;34m)\u001b[0m\u001b[0;34m\u001b[0m\u001b[0m\n",
      "\u001b[0;32m~/anaconda/envs/jupyter-env/lib/python3.6/site-packages/pandas/__init__.py\u001b[0m in \u001b[0;36m<module>\u001b[0;34m()\u001b[0m\n\u001b[1;32m     38\u001b[0m \u001b[0;34m\u001b[0m\u001b[0m\n\u001b[1;32m     39\u001b[0m \u001b[0;31m# let init-time option registration happen\u001b[0m\u001b[0;34m\u001b[0m\u001b[0;34m\u001b[0m\u001b[0m\n\u001b[0;32m---> 40\u001b[0;31m \u001b[0;32mimport\u001b[0m \u001b[0mpandas\u001b[0m\u001b[0;34m.\u001b[0m\u001b[0mcore\u001b[0m\u001b[0;34m.\u001b[0m\u001b[0mconfig_init\u001b[0m\u001b[0;34m\u001b[0m\u001b[0m\n\u001b[0m\u001b[1;32m     41\u001b[0m \u001b[0;34m\u001b[0m\u001b[0m\n\u001b[1;32m     42\u001b[0m \u001b[0;32mfrom\u001b[0m \u001b[0mpandas\u001b[0m\u001b[0;34m.\u001b[0m\u001b[0mcore\u001b[0m\u001b[0;34m.\u001b[0m\u001b[0mapi\u001b[0m \u001b[0;32mimport\u001b[0m \u001b[0;34m*\u001b[0m\u001b[0;34m\u001b[0m\u001b[0m\n",
      "\u001b[0;32m~/anaconda/envs/jupyter-env/lib/python3.6/site-packages/pandas/core/config_init.py\u001b[0m in \u001b[0;36m<module>\u001b[0;34m()\u001b[0m\n\u001b[1;32m     10\u001b[0m \u001b[0;34m\u001b[0m\u001b[0m\n\u001b[1;32m     11\u001b[0m \"\"\"\n\u001b[0;32m---> 12\u001b[0;31m \u001b[0;32mimport\u001b[0m \u001b[0mpandas\u001b[0m\u001b[0;34m.\u001b[0m\u001b[0mcore\u001b[0m\u001b[0;34m.\u001b[0m\u001b[0mconfig\u001b[0m \u001b[0;32mas\u001b[0m \u001b[0mcf\u001b[0m\u001b[0;34m\u001b[0m\u001b[0m\n\u001b[0m\u001b[1;32m     13\u001b[0m from pandas.core.config import (is_int, is_bool, is_text, is_instance_factory,\n\u001b[1;32m     14\u001b[0m                                 is_one_of_factory, is_callable)\n",
      "\u001b[0;31mAttributeError\u001b[0m: module 'pandas' has no attribute 'core'"
     ]
    }
   ],
   "source": [
    "import pandas as pd\n",
    "import numpy as np\n",
    "from sklearn.preprocessing import StandardScaler\n",
    "import matplotlib\n",
    "matplotlib.use('Agg')\n",
    "import matplotlib.pyplot as plt"
   ]
  },
  {
   "cell_type": "code",
   "execution_count": 1,
   "metadata": {},
   "outputs": [
    {
     "ename": "AttributeError",
     "evalue": "module 'pandas' has no attribute 'read_csv'",
     "output_type": "error",
     "traceback": [
      "\u001b[0;31m---------------------------------------------------------------------------\u001b[0m",
      "\u001b[0;31mAttributeError\u001b[0m                            Traceback (most recent call last)",
      "\u001b[0;32m<ipython-input-1-88bbe6547c7b>\u001b[0m in \u001b[0;36m<module>\u001b[0;34m()\u001b[0m\n\u001b[1;32m      1\u001b[0m \u001b[0;31m#ライブラリのインポート\u001b[0m\u001b[0;34m\u001b[0m\u001b[0;34m\u001b[0m\u001b[0m\n\u001b[0;32m----> 2\u001b[0;31m \u001b[0;32mimport\u001b[0m \u001b[0mpandas\u001b[0m \u001b[0;32mas\u001b[0m \u001b[0mpd\u001b[0m\u001b[0;34m\u001b[0m\u001b[0m\n\u001b[0m\u001b[1;32m      3\u001b[0m \u001b[0;32mimport\u001b[0m \u001b[0mnumpy\u001b[0m \u001b[0;32mas\u001b[0m \u001b[0mnp\u001b[0m\u001b[0;34m\u001b[0m\u001b[0m\n\u001b[1;32m      4\u001b[0m \u001b[0;32mfrom\u001b[0m \u001b[0msklearn\u001b[0m\u001b[0;34m.\u001b[0m\u001b[0mpreprocessing\u001b[0m \u001b[0;32mimport\u001b[0m \u001b[0mStandardScaler\u001b[0m\u001b[0;34m\u001b[0m\u001b[0m\n\u001b[1;32m      5\u001b[0m \u001b[0;32mimport\u001b[0m \u001b[0mmatplotlib\u001b[0m\u001b[0;34m\u001b[0m\u001b[0m\n",
      "\u001b[0;32m~/anaconda/envs/jupyter-env/lib/python3.6/site-packages/pandas/__init__.py\u001b[0m in \u001b[0;36m<module>\u001b[0;34m()\u001b[0m\n\u001b[1;32m     35\u001b[0m \u001b[0;34m\u001b[0m\u001b[0m\n\u001b[1;32m     36\u001b[0m \u001b[0;31m# let init-time option registration happen\u001b[0m\u001b[0;34m\u001b[0m\u001b[0;34m\u001b[0m\u001b[0m\n\u001b[0;32m---> 37\u001b[0;31m \u001b[0;32mimport\u001b[0m \u001b[0mpandas\u001b[0m\u001b[0;34m.\u001b[0m\u001b[0mcore\u001b[0m\u001b[0;34m.\u001b[0m\u001b[0mconfig_init\u001b[0m\u001b[0;34m\u001b[0m\u001b[0m\n\u001b[0m\u001b[1;32m     38\u001b[0m \u001b[0;34m\u001b[0m\u001b[0m\n\u001b[1;32m     39\u001b[0m \u001b[0;32mfrom\u001b[0m \u001b[0mpandas\u001b[0m\u001b[0;34m.\u001b[0m\u001b[0mcore\u001b[0m\u001b[0;34m.\u001b[0m\u001b[0mapi\u001b[0m \u001b[0;32mimport\u001b[0m \u001b[0;34m*\u001b[0m\u001b[0;34m\u001b[0m\u001b[0m\n",
      "\u001b[0;32m~/anaconda/envs/jupyter-env/lib/python3.6/site-packages/pandas/core/config_init.py\u001b[0m in \u001b[0;36m<module>\u001b[0;34m()\u001b[0m\n\u001b[1;32m     16\u001b[0m                                 \u001b[0mis_one_of_factory\u001b[0m\u001b[0;34m,\u001b[0m \u001b[0mget_default_val\u001b[0m\u001b[0;34m,\u001b[0m\u001b[0;34m\u001b[0m\u001b[0m\n\u001b[1;32m     17\u001b[0m                                 is_callable)\n\u001b[0;32m---> 18\u001b[0;31m \u001b[0;32mfrom\u001b[0m \u001b[0mpandas\u001b[0m\u001b[0;34m.\u001b[0m\u001b[0mformats\u001b[0m\u001b[0;34m.\u001b[0m\u001b[0mformat\u001b[0m \u001b[0;32mimport\u001b[0m \u001b[0mdetect_console_encoding\u001b[0m\u001b[0;34m\u001b[0m\u001b[0m\n\u001b[0m\u001b[1;32m     19\u001b[0m \u001b[0;34m\u001b[0m\u001b[0m\n\u001b[1;32m     20\u001b[0m \u001b[0;31m#\u001b[0m\u001b[0;34m\u001b[0m\u001b[0;34m\u001b[0m\u001b[0m\n",
      "\u001b[0;32m~/anaconda/envs/jupyter-env/lib/python3.6/site-packages/pandas/formats/format.py\u001b[0m in \u001b[0;36m<module>\u001b[0;34m()\u001b[0m\n\u001b[1;32m     31\u001b[0m \u001b[0;32mfrom\u001b[0m \u001b[0mpandas\u001b[0m\u001b[0;34m.\u001b[0m\u001b[0mutil\u001b[0m\u001b[0;34m.\u001b[0m\u001b[0mterminal\u001b[0m \u001b[0;32mimport\u001b[0m \u001b[0mget_terminal_size\u001b[0m\u001b[0;34m\u001b[0m\u001b[0m\n\u001b[1;32m     32\u001b[0m \u001b[0;32mfrom\u001b[0m \u001b[0mpandas\u001b[0m\u001b[0;34m.\u001b[0m\u001b[0mcore\u001b[0m\u001b[0;34m.\u001b[0m\u001b[0mconfig\u001b[0m \u001b[0;32mimport\u001b[0m \u001b[0mget_option\u001b[0m\u001b[0;34m,\u001b[0m \u001b[0mset_option\u001b[0m\u001b[0;34m\u001b[0m\u001b[0m\n\u001b[0;32m---> 33\u001b[0;31m \u001b[0;32mfrom\u001b[0m \u001b[0mpandas\u001b[0m\u001b[0;34m.\u001b[0m\u001b[0mio\u001b[0m\u001b[0;34m.\u001b[0m\u001b[0mcommon\u001b[0m \u001b[0;32mimport\u001b[0m \u001b[0m_get_handle\u001b[0m\u001b[0;34m,\u001b[0m \u001b[0mUnicodeWriter\u001b[0m\u001b[0;34m,\u001b[0m \u001b[0m_expand_user\u001b[0m\u001b[0;34m\u001b[0m\u001b[0m\n\u001b[0m\u001b[1;32m     34\u001b[0m \u001b[0;32mfrom\u001b[0m \u001b[0mpandas\u001b[0m\u001b[0;34m.\u001b[0m\u001b[0mformats\u001b[0m\u001b[0;34m.\u001b[0m\u001b[0mprinting\u001b[0m \u001b[0;32mimport\u001b[0m \u001b[0madjoin\u001b[0m\u001b[0;34m,\u001b[0m \u001b[0mjustify\u001b[0m\u001b[0;34m,\u001b[0m \u001b[0mpprint_thing\u001b[0m\u001b[0;34m\u001b[0m\u001b[0m\n\u001b[1;32m     35\u001b[0m \u001b[0;32mimport\u001b[0m \u001b[0mpandas\u001b[0m\u001b[0;34m.\u001b[0m\u001b[0mcore\u001b[0m\u001b[0;34m.\u001b[0m\u001b[0mcommon\u001b[0m \u001b[0;32mas\u001b[0m \u001b[0mcom\u001b[0m\u001b[0;34m\u001b[0m\u001b[0m\n",
      "\u001b[0;32m~/anaconda/envs/jupyter-env/lib/python3.6/site-packages/pandas/io/common.py\u001b[0m in \u001b[0;36m<module>\u001b[0;34m()\u001b[0m\n\u001b[1;32m      3\u001b[0m \u001b[0;32mimport\u001b[0m \u001b[0msys\u001b[0m\u001b[0;34m\u001b[0m\u001b[0m\n\u001b[1;32m      4\u001b[0m \u001b[0;32mimport\u001b[0m \u001b[0mos\u001b[0m\u001b[0;34m\u001b[0m\u001b[0m\n\u001b[0;32m----> 5\u001b[0;31m \u001b[0;32mimport\u001b[0m \u001b[0mcsv\u001b[0m\u001b[0;34m\u001b[0m\u001b[0m\n\u001b[0m\u001b[1;32m      6\u001b[0m \u001b[0;32mimport\u001b[0m \u001b[0mcodecs\u001b[0m\u001b[0;34m\u001b[0m\u001b[0m\n\u001b[1;32m      7\u001b[0m \u001b[0;32mimport\u001b[0m \u001b[0mmmap\u001b[0m\u001b[0;34m\u001b[0m\u001b[0m\n",
      "\u001b[0;32m~/Desktop/180522/work/csv.py\u001b[0m in \u001b[0;36m<module>\u001b[0;34m()\u001b[0m\n\u001b[1;32m     19\u001b[0m     \u001b[0;31m#神経データをデータフレームにインポートする\u001b[0m\u001b[0;34m\u001b[0m\u001b[0;34m\u001b[0m\u001b[0m\n\u001b[1;32m     20\u001b[0m     \u001b[0minputf\u001b[0m\u001b[0;34m=\u001b[0m\u001b[0;34m'%s/python/%s_Longitudinal_Traces.csv'\u001b[0m \u001b[0;34m%\u001b[0m\u001b[0;34m(\u001b[0m\u001b[0mmouse\u001b[0m\u001b[0;34m,\u001b[0m\u001b[0mmouse\u001b[0m\u001b[0;34m)\u001b[0m\u001b[0;34m\u001b[0m\u001b[0m\n\u001b[0;32m---> 21\u001b[0;31m     \u001b[0mdff\u001b[0m\u001b[0;34m=\u001b[0m\u001b[0mpd\u001b[0m\u001b[0;34m.\u001b[0m\u001b[0mread_csv\u001b[0m\u001b[0;34m(\u001b[0m\u001b[0minputf\u001b[0m\u001b[0;34m,\u001b[0m\u001b[0mheader\u001b[0m\u001b[0;34m=\u001b[0m\u001b[0;36m0\u001b[0m\u001b[0;34m)\u001b[0m\u001b[0;34m\u001b[0m\u001b[0m\n\u001b[0m\u001b[1;32m     22\u001b[0m     \u001b[0mdff0\u001b[0m\u001b[0;34m=\u001b[0m\u001b[0mpd\u001b[0m\u001b[0;34m.\u001b[0m\u001b[0mDataFrame\u001b[0m\u001b[0;34m(\u001b[0m\u001b[0;34m)\u001b[0m\u001b[0;34m\u001b[0m\u001b[0m\n\u001b[1;32m     23\u001b[0m \u001b[0;34m\u001b[0m\u001b[0m\n",
      "\u001b[0;31mAttributeError\u001b[0m: module 'pandas' has no attribute 'read_csv'"
     ]
    }
   ],
   "source": [
    "#マウスリストの作成、神経データが記録されている全フェーズリストの作成\n",
    "mouse_list = [\"ID138464-1\",\"ID138464-2\",\"ID138464-3\",\"ID138464-4\",\"ID138464-5\",\"ID138464-6\"]\n",
    "phaseall_list=[\"HC1\",\"B1\",\"B2\",\"HC2\",\"A1\",\"A2\",\"A31\",\"A32\",\"A41\",\"A42\",\"HC3\",\"A5\",\"B3\",\"A6\",\"A7\",\"HC4\",\"B4\"]\n",
    "\n",
    "#対象マウス決定\n",
    "\n",
    "for m in range(0,len(mouse_list)):\n",
    "\n",
    "    mouse = mouse_list[m]\n",
    "\n",
    "    #神経データをデータフレームにインポートする\n",
    "    inputf='%s/python/%s_Longitudinal_Traces.csv' %(mouse,mouse)\n",
    "    dff=pd.read_csv(inputf,header=0)\n",
    "    dff0=pd.DataFrame()\n",
    "\n",
    "    #Acceptのみを抽出したデータフレームの作成\n",
    "    dff0=dff.iloc[0,:]\n",
    "    Accept=dff0.index[dff0==' accepted']\n",
    "    dfa=pd.DataFrame()\n",
    "    dfa['Time2']=dff.iloc[1:,0]\n",
    "    for accept_c in range (0,len(Accept)):\n",
    "        dfa[Accept[accept_c]]=dff[Accept[accept_c]].iloc[1:]\n",
    "        dfa=dfa.astype('float')\n",
    "\n",
    "    #Acceptcellのfirst cellとlast cellを抽出\n",
    "    cell_f=dfa.columns[1]\n",
    "    cell_l=dfa.columns[dfa.shape[1]-1]\n",
    "\n",
    "    #レコード間の時間差からphaseを割り当てる\n",
    "    dfa['dt']=dfa['Time2'].diff()\n",
    "    dfa['dt'].iloc[0]=0.05\n",
    "    dfa['phase']=-1\n",
    "    phase=0\n",
    "    for i in range(0,dfa.shape[0]):    \n",
    "        if(dfa['dt'].iloc[i]>10):        \n",
    "            phase=phase+1\n",
    "        dfa.iloc[i,dfa.columns.get_loc('phase')]=phaseall_list[phase]\n",
    "\n",
    "    #割り当てたphaseごとにcsvを生成(XYdataがphaseごとに生成されているため)\n",
    "    for phase in range(0,len(phaseall_list)):    \n",
    "        outputf='%s/python/%s_%s_Long_Traces.csv' %(mouse,mouse,phaseall_list[phase])    \n",
    "        df_phase=dfa[dfa['phase']==phaseall_list[phase]]        \n",
    "        df_phase.to_csv(outputf,index=False)\n",
    "\n",
    "    #XYデータにヘッダー情報がたくさん入っている、かつcsvなのでヘッダー情報をカラム情報以外取り除き、csvに出力する\n",
    "    phasepre_list=[\"B1\",\"B2\",\"A1\",\"A2\",\"A3\",\"A4\",\"A5\",\"B3\",\"A6\",\"A7\",\"B4\"]\n",
    "    for phase_pre in range(0,len(phasepre_list)):\n",
    "        inputXY='%s/python/%s_XYdata/%s_%s_%s_XY.txt' %(mouse,mouse,mouse,phase_pre+1,phasepre_list[phase_pre])\n",
    "        outputXY='%s/python/%s_XYdata/%s_%s_XY.csv' %(mouse,mouse,mouse,phasepre_list[phase_pre])\n",
    "        dfxyp=pd.read_table(inputXY)\n",
    "        h=dfxyp[dfxyp['TimeFZ4']=='Slice'].index[0]\n",
    "        dfxy=pd.read_table(inputXY,header=h+1)\n",
    "        dfxy.to_csv(outputXY,index=False)\n",
    "\n",
    "    #XYデータがA3,A4を前半後半に分割していないので分割してからcsvに\n",
    "    phasetransb_list=[\"A3\",\"A4\"]\n",
    "    phasetransa_list=[\"A31\",\"A32\",\"A41\",\"A42\"]\n",
    "    for phase_b in range(0,2):\n",
    "        inputXY='%s/python/%s_XYdata/%s_%s_%s_XY.txt' %(mouse,mouse,mouse,phase_b+5,phasetransb_list[phase_b])\n",
    "        for phase_a in range(0, 2):\n",
    "            outputXY='%s/python/%s_XYdata/%s_%s_XY.csv' %(mouse,mouse,mouse,phasetransa_list[2*phase_b+phase_a])\n",
    "            dfxyp=pd.read_table(inputXY)\n",
    "            h=dfxyp[dfxyp['TimeFZ4']=='Slice'].index[0]\n",
    "            dfxy=pd.read_table(inputXY,header=h+1)\n",
    "            dfxy.iloc[3000*phase_a+0:3000*phase_a+621,:].to_csv(outputXY,index=False)\n",
    "\n",
    "    #分析対象となるphase_listを作成\n",
    "    phase_list=[\"A1\",\"A2\",\"A31\",\"A32\",\"A41\",\"A42\",\"A5\",\"A6\",\"A7\"]\n",
    "\n",
    "    #後ほど使う全phase合わせた用のデータフレーム\n",
    "    dfmeandiff_all=pd.DataFrame()\n",
    "\n",
    "    #phaseごとに分析をする\n",
    "    for ph in range(0,len(phase_list)):\n",
    "        phase=phase_list[ph]\n",
    "        inputXY='%s/python/%s_XYdata/%s_%s_XY.csv' %(mouse,mouse,mouse,phase)\n",
    "        dfx = pd.read_csv(inputXY,header=0)\n",
    "        inputT='%s/python/%s_%s_Long_Traces.csv' %(mouse,mouse,phase)\n",
    "        dfl=pd.read_csv(inputT,header=0)\n",
    "\n",
    "        #FZ-nonFZ状態の入れ替わりからsessionを付与\n",
    "        dfx[\"session\"]=0\n",
    "        ses=dfx.columns.get_loc('session')\n",
    "        for i in range(1,dfx.shape[0]):\n",
    "            if (dfx.iloc[i].loc[\"FZ\"]!=dfx.iloc[i-1].loc[\"FZ\"]):\n",
    "                dfx.iloc[i,ses]= int(dfx.iloc[i-1,ses])+1\n",
    "            else:\n",
    "                dfx.iloc[i,ses]= int(dfx.iloc[i-1,ses])\n",
    "\n",
    "        #後ほどFZの短いセッション結合を行うための準備\n",
    "        dfx['FZ_c0']=dfx['FZ']\n",
    "        dfx['ses_c0']=dfx['session']\n",
    "        ses_cnt=0\n",
    "        FZ_col=dfx.columns.get_loc('FZ_c0')\n",
    "        session_col=dfx.columns.get_loc('ses_c0')\n",
    "        ses_c='ses_c%s'%(ses_cnt)\n",
    "        mconseq='mconseq_%s'%(ses_cnt)\n",
    "        dfx[mconseq]=0\n",
    "        mconseq_col=dfx.columns.get_loc('mconseq_0')\n",
    "        Slice_col=dfx.columns.get_loc('Slice')\n",
    "\n",
    "        #mconseq(マイナス方向に伸ばしたconseqFZ)を付与\n",
    "        for i in range (0,dfx.shape[0]):\n",
    "            ses_no = dfx.iloc[i,session_col]\n",
    "            if dfx.iloc[i,FZ_col] == 0:\n",
    "                if ses_no == dfx.iloc[dfx.shape[0]-1].loc[ses_c]:\n",
    "                    dfx.iloc[i,mconseq_col]=-100\n",
    "                    break;\n",
    "                df_ns=dfx[dfx[ses_c]==ses_no+1]\n",
    "            else:\n",
    "                df_ns=dfx[dfx[ses_c]==ses_no]\n",
    "            df_ns1=df_ns.iloc[0]\n",
    "            dfx.iloc[i,mconseq_col]=int(dfx.iloc[i,Slice_col]-df_ns1.iloc[Slice_col]+1)\n",
    "\n",
    "        #validラベルを付与\n",
    "        valid_fz='valid_%s'%(ses_cnt)\n",
    "        dfx[valid_fz]=0\n",
    "        valid_col=dfx.columns.get_loc(valid_fz)\n",
    "        for i in range(0,dfx.shape[0]):\n",
    "            ses_no_v = dfx.iloc[i,session_col]\n",
    "            if dfx.iloc[i,FZ_col] == 0:\n",
    "                if ses_no_v == dfx.iloc[dfx.shape[0]-1].loc[ses_c]:\n",
    "                    break;\n",
    "                df_ns_v=dfx[dfx[ses_c]==ses_no_v+1]\n",
    "            else:\n",
    "                df_ns_v=dfx[dfx[ses_c]==ses_no_v]\n",
    "            df_ns1_v=df_ns_v.iloc[df_ns_v.shape[0]-1]\n",
    "            if df_ns1_v[mconseq_col]<9:\n",
    "                dfx.iloc[i,valid_col]=0\n",
    "            else:\n",
    "                dfx.iloc[i,valid_col]=1\n",
    "\n",
    "        #短いFZセッションの結合→mconseqを付与→validを付与\n",
    "        for ses_cnt in range(1,10):\n",
    "            FZ_c='FZ_c%s'%(ses_cnt)\n",
    "            FZ_cm='FZ_c%s'%(ses_cnt-1)\n",
    "            ses_c='ses_c%s'%(ses_cnt)\n",
    "            ses_cm='ses_c%s'%(ses_cnt-1)\n",
    "            dfx[FZ_c]=dfx[FZ_cm]\n",
    "            dfx[ses_c]=0\n",
    "            fzc=dfx.columns.get_loc(FZ_c)\n",
    "            cnt=0\n",
    "            sup=0\n",
    "            r=20\n",
    "            for i in range(1,int(dfx.iloc[dfx.shape[0]-1].loc[ses_cm])+1):\n",
    "                fz=dfx[dfx[ses_cm]==i].iloc[0,fzc]\n",
    "                nfz=int((1-fz)*(1-fz))\n",
    "                slice_b=dfx[dfx[ses_cm]==i].iloc[0].loc['Slice']\n",
    "                slice_a=dfx[dfx[ses_cm]==i].iloc[dfx[dfx[ses_cm]==i].shape[0]-1].loc['Slice']\n",
    "                Queryp='%d<=Slice<%d'%(int(slice_b),int(slice_a+r))\n",
    "                Querym='%d<=Slice<%d'%(int(slice_b),int(slice_a+r))\n",
    "                dfx_sp=dfx.query(Queryp)\n",
    "                dfx_sm=dfx.query(Querym)\n",
    "                if(i<int(dfx.iloc[dfx.shape[0]-1].loc[ses_cm])):\n",
    "                    pp=1.0*dfx_sp[FZ_cm].value_counts()[fz]/(dfx_sp.shape[0]*1.0)\n",
    "                    pm=1.0*dfx_sm[FZ_cm].value_counts()[fz]/(dfx_sm.shape[0]*1.0)\n",
    "                else:\n",
    "                    p=1\n",
    "                if((dfx[dfx[ses_cm]==i].shape[0]<10) and (pp<0.350 or pm<0.350) and  (fz==0)):\n",
    "                    dfx.loc[dfx[ses_cm]==i,ses_c]=cnt\n",
    "                    dfx.loc[dfx[ses_cm]==i,FZ_c]=nfz\n",
    "                    sup=1\n",
    "                else:\n",
    "                    cnt+=1-sup\n",
    "                    dfx.loc[dfx[ses_cm]==i,ses_c]=cnt\n",
    "                    dfx.loc[dfx[ses_cm]==i,FZ_c]=fz\n",
    "                    sup=0\n",
    "            mconseq='mconseq_%s'%(ses_cnt)\n",
    "            dfx[mconseq]=-10\n",
    "            FZ_col=dfx.columns.get_loc(FZ_c)\n",
    "            session_col=dfx.columns.get_loc(ses_c)\n",
    "            mconseq_col=dfx.columns.get_loc(mconseq)\n",
    "            Slice_col=dfx.columns.get_loc('Slice')\n",
    "            for i in range (0,dfx.shape[0]):\n",
    "                ses_no = dfx.iloc[i,session_col]\n",
    "                if dfx.iloc[i,FZ_col] == 0:\n",
    "                    if ses_no == dfx.iloc[dfx.shape[0]-1].loc[ses_c]:\n",
    "                        break;\n",
    "                    df_ns=dfx[dfx[ses_c]==ses_no+1]\n",
    "                else:\n",
    "                    df_ns=dfx[dfx[ses_c]==ses_no]\n",
    "                df_ns1=df_ns.iloc[0]\n",
    "                dfx.iloc[i,mconseq_col]=int(dfx.iloc[i,Slice_col]-df_ns1.iloc[Slice_col]+1)\n",
    "            valid_fz='valid_%s'%(ses_cnt)\n",
    "            dfx[valid_fz]=0\n",
    "            valid_col=dfx.columns.get_loc(valid_fz)\n",
    "            for i in range(0,dfx.shape[0]):\n",
    "                ses_no_v = dfx.iloc[i,session_col]\n",
    "                if dfx.iloc[i,FZ_col] == 0:\n",
    "                    if ses_no_v == dfx.iloc[dfx.shape[0]-1].loc[ses_c]:\n",
    "                        break;\n",
    "                    df_ns_v=dfx[dfx[ses_c]==ses_no_v+1]\n",
    "                else:\n",
    "                    df_ns_v=dfx[dfx[ses_c]==ses_no_v]\n",
    "                df_ns1_v=df_ns_v.iloc[df_ns_v.shape[0]-1]\n",
    "                if df_ns1_v[mconseq_col]<9:\n",
    "                    dfx.iloc[i,valid_col]=0\n",
    "                else:\n",
    "                    dfx.iloc[i,valid_col]=1\n",
    "            if(dfx.iloc[dfx.shape[0]-1].loc[ses_cm]==dfx.iloc[dfx.shape[0]-1].loc[ses_c]):\n",
    "                break;\n",
    "\n",
    "        #ここで神経データと行動データを結合       \n",
    "        dfx_m=pd.DataFrame(columns=dfx.columns,index=np.arange(0,int(dfx.iloc[dfx.shape[0]-1].loc['Slice']-1)*10))\n",
    "        for i in range(2,int(dfx.shape[0])):\n",
    "            for j in range(0,10):\n",
    "                for k in range(0,len(dfx_m.columns)):\n",
    "                    dfx_m.iloc[(i-2)*10+j].loc[dfx_m.columns[k]]=dfx.iloc[i].loc[dfx_m.columns[k]]\n",
    "        df=pd.concat([dfx_m, dfl], axis=1)\n",
    "        df=df.dropna(how='any')\n",
    "        outputf='%s/python/%s_%s_con.csv' %(mouse,mouse,phase)          \n",
    "        df.to_csv(outputf,index=False)\n",
    "\n",
    "        #Sliceごとに平均をとったdfmeanの作成\n",
    "        Index=np.arange(int(df.iloc[0].loc['Slice']),int(df.iloc[df.shape[0]-1].loc['Slice']+1),1)\n",
    "        df_mean=pd.DataFrame(index=Index,columns=[])\n",
    "        for i in range(0,len(df.columns)):\n",
    "            df_mean[df.columns[i]]=-100\n",
    "        for i_n in range(int(df.iloc[0].loc['Slice']),int(df.iloc[df.shape[0]-1].loc['Slice']+1)):\n",
    "            i = i_n - int(df.iloc[0].loc['Slice'])\n",
    "            df_mean.iloc[i].loc['Slice']=i_n\n",
    "            dfs = df[df['Slice']==i_n]\n",
    "            for k in range(0,df.columns.get_loc('Time2')+1):\n",
    "                df_mean.iloc[i,k]=dfs.iloc[0,k]\n",
    "            for j in range(dfs.columns.get_loc(cell_f),dfs.columns.get_loc(cell_l)+1):\n",
    "                df_mean.iloc[i,j]=dfs[dfs.columns[j]].mean()\n",
    "            for l in range(dfs.columns.get_loc('session'),dfs.columns.get_loc(ses_c)+1):\n",
    "                df_mean.iloc[i,l]=int(dfs.iloc[0,l])\n",
    "        dfmean=df_mean\n",
    "        outputf='%s/python/%s_%s_mean.csv' %(mouse,mouse,phase)          \n",
    "        dfmean.to_csv(outputf,index=False)\n",
    "        \n",
    "                #sliceiniの情報をdiff化→std化\n",
    "        dfmeandiff=df_mean.diff()\n",
    "        dfmeandiff.loc[:,:'Time2']=df_mean.loc[:,:'Time2']\n",
    "        dfmeandiff=dfmean.dropna(how='any')\n",
    "        dfmeandiff_std=pd.DataFrame(columns=dfmeandiff.columns,index=dfmeandiff.index)\n",
    "        for k in range(dfmeandiff_std.columns.get_loc('Slice'),dfmeandiff_std.columns.get_loc(cell_f)):\n",
    "            dfmeandiff_std[dfmeandiff_std.columns[k]]=dfmeandiff[dfmeandiff_std.columns[k]]\n",
    "        for i in range(dfmeandiff_std.columns.get_loc(cell_f),dfmeandiff_std.columns.get_loc(cell_l)+1):\n",
    "            for j in range(0,dfmeandiff_std.shape[0]):\n",
    "                dfmeandiff_std.iloc[j,i]=((dfmeandiff.iloc[j,i]-dfmeandiff[dfmeandiff_std.columns[i]].mean())/dfmeandiff[dfmeandiff_std.columns[i]].std())\n",
    "        dfmeandiff_all=pd.concat([dfmeandiff_all,dfmeandiff_std])\n",
    "    outputf='%s/python/%s_meandiffall.csv' %(mouse,mouse)          \n",
    "    dfmeandiff_all.to_csv(outputf,index=False)"
   ]
  },
  {
   "cell_type": "code",
   "execution_count": null,
   "metadata": {
    "collapsed": true
   },
   "outputs": [],
   "source": [
    "        #セッション結合操作の前のセッションで、sliceini「X:Time1,Y:Ca2+img強度」\n",
    "        for j in range(dfmean.columns.get_loc(cell_f),dfmean.columns.get_loc(cell_l)+1):\n",
    "            plt.figure(figsize=(5.4, 3.6), dpi=80)\n",
    "            plt.plot(dfmean['Slice'],dfmean[dfmean.columns[j]],color='red')\n",
    "            plt.ylim(-0.05,0.30)\n",
    "            for i in range(0,dfmean.shape[0]):\n",
    "                if dfmean.iloc[i].loc['FZ'] == 1:\n",
    "                    if dfmean.iloc[i].loc['X']  <= 125:\n",
    "                        if dfmean.iloc[i].loc['Y']  <=100:\n",
    "                            Color='lightpink'\n",
    "                        else:\n",
    "                            Color='lightblue'\n",
    "                    else:\n",
    "                        if dfmean.iloc[i].loc['Y']  <=100:\n",
    "                            Color='silver'\n",
    "                        else:\n",
    "                            Color='lightgreen'\n",
    "                    plt.fill([dfmean.iloc[i].loc['Slice'],dfmean.iloc[i].loc['Slice']+1,dfmean.iloc[i].loc['Slice']+1,dfmean.iloc[i].loc['Slice']],[-0.05,-0.05,0.30,0.30],color=Color)\n",
    "                if (dfmean.iloc[i].loc['Shock'] == 1):\n",
    "                    plt.plot([dfmean.iloc[i].loc['Slice'],dfmean.iloc[i].loc['Slice']],[-0.05,0.30],color='red',linestyle='dashed')\n",
    "            plt.xlabel('Slice')\n",
    "            plt.ylabel('Ca2+Img')\n",
    "            title_name='sliceini_%s_%s' %(phase,dfmean.columns[j])\n",
    "            plt.title(title_name)\n",
    "            file_name='%s/python/fig/'%(mouse)+title_name+'.png'\n",
    "            plt.savefig(file_name)\n",
    "\n",
    "        #セッション結合操作後のセッションで、sliceini「X:Time1,Y:Ca2+img強度」\n",
    "        for j in range(dfmean.columns.get_loc(cell_f),dfmean.columns.get_loc(cell_l)+1):\n",
    "            plt.figure(figsize=(5.4, 3.6), dpi=80)\n",
    "            plt.plot(dfmean['Slice'],dfmean[dfmean.columns[j]],color='red')\n",
    "            plt.ylim(-0.05,0.30)\n",
    "            for i in range(0,dfmean.shape[0]):\n",
    "                if dfmean.iloc[i].loc[FZ_c] == 1:\n",
    "                    if dfmean.iloc[i].loc['X']  <= 125:\n",
    "                        if dfmean.iloc[i].loc['Y']  <=100:\n",
    "                            Color='lightpink'\n",
    "                        else:\n",
    "                            Color='lightblue'\n",
    "                    else:\n",
    "                        if dfmean.iloc[i].loc['Y']  <=100:\n",
    "                            Color='silver'\n",
    "                        else:\n",
    "                            Color='lightgreen'\n",
    "                    plt.fill([dfmean.iloc[i].loc['Slice'],dfmean.iloc[i].loc['Slice']+1,dfmean.iloc[i].loc['Slice']+1,dfmean.iloc[i].loc['Slice']],[-0.05,-0.05,0.30,0.30],color=Color)\n",
    "                if (dfmean.iloc[i].loc['Shock'] == 1):\n",
    "                    plt.plot([dfmean.iloc[i].loc['Slice'],dfmean.iloc[i].loc['Slice']],[-0.05,0.30],color='red',linestyle='dashed')\n",
    "            plt.xlabel('Slice')\n",
    "            plt.ylabel('Ca2+Img')\n",
    "            title_name='sliceope_%s_%s' %(phase,dfmean.columns[j])\n",
    "            file_name='%s/python/fig/'%(mouse)+title_name+'.png'\n",
    "            plt.title(title_name)\n",
    "            plt.savefig(file_name)\n",
    "\n",
    "        #セッション結合後のヒストグラム(X:img強度,Y:密度)\n",
    "        for j in range(dfmean.columns.get_loc(cell_f),dfmean.columns.get_loc(cell_l)+1):\n",
    "            plt.figure(figsize=(5.4, 3.6), dpi=80)\n",
    "            df_m=dfmean[(dfmean[mconseq]<0)]\n",
    "            df_p=dfmean[(dfmean[mconseq]>=0) & (dfmean[valid_fz]==1)]\n",
    "            plt.hist([df_m[dfmean.columns[j]],dfmean[dfmean.columns[j]],df_p[dfmean.columns[j]]],bins=10,normed=True,label=['nonFZ','ALL','FZ'])\n",
    "            plt.xlabel('Ca2+img')\n",
    "            plt.ylabel('density')\n",
    "            title_name='histope_%s_%s' % (phase,dfmean.columns[j])\n",
    "            file_name='%s/python/fig/'%(mouse)+title_name+'.png'\n",
    "            plt.title(title_name)\n",
    "            plt.savefig(file_name)\n",
    "\n",
    "        #セッション結合前のヒストグラム(X:img強度,Y:密度)\n",
    "        for j in range(df.columns.get_loc(cell_f),df.columns.get_loc(cell_l)+1):   \n",
    "            plt.figure(figsize=(5.4, 3.6), dpi=80)\n",
    "            df_m=dfmean[(dfmean['mconseq_0']<0)]\n",
    "            df_p=dfmean[(dfmean['mconseq_0']>=0) & (dfmean['valid_0']==1)]\n",
    "            plt.hist([df_m[dfmean.columns[j]],dfmean[dfmean.columns[j]],df_p[dfmean.columns[j]]],bins=10,normed=True,label=['nonFZ','ALL','FZ'])\n",
    "            plt.xlabel('Ca2+img')\n",
    "            plt.ylabel('density')\n",
    "            title_name='histini_%s_%s' % (phase,dfmean.columns[j])\n",
    "            file_name='%s/python/fig/'%(mouse) +title_name+'.png'\n",
    "            plt.title(title_name)\n",
    "            plt.savefig(file_name)"
   ]
  },
  {
   "cell_type": "code",
   "execution_count": null,
   "metadata": {
    "scrolled": false
   },
   "outputs": [
    {
     "name": "stderr",
     "output_type": "stream",
     "text": [
      "/Users/rentakakura/anaconda/envs/jupyter-env/lib/python3.6/site-packages/IPython/core/interactiveshell.py:2698: DtypeWarning: Columns (0,1,2,3,4,5,6,7,8,9,10,11,12,13,14,15,16,17,18,19,20,21,22,23,24,25,26,27,28,29,30,31,32,33,34,35,36,37,38,39,40,41,42,43,44,45,46,47,48,49,50,51,52,53,54,55,56,57,58,59,60,61,62,63,64,65,66,67,68,69,70,71,72,73,74,75,76,77,78,79) have mixed types. Specify dtype option on import or set low_memory=False.\n",
      "  interactivity=interactivity, compiler=compiler, result=result)\n",
      "/Users/rentakakura/anaconda/envs/jupyter-env/lib/python3.6/site-packages/pandas/core/indexing.py:141: SettingWithCopyWarning: \n",
      "A value is trying to be set on a copy of a slice from a DataFrame\n",
      "\n",
      "See the caveats in the documentation: http://pandas.pydata.org/pandas-docs/stable/indexing.html#indexing-view-versus-copy\n",
      "  self._setitem_with_indexer(indexer, value)\n",
      "/Users/rentakakura/anaconda/envs/jupyter-env/lib/python3.6/site-packages/ipykernel_launcher.py:215: SettingWithCopyWarning: \n",
      "A value is trying to be set on a copy of a slice from a DataFrame\n",
      "\n",
      "See the caveats in the documentation: http://pandas.pydata.org/pandas-docs/stable/indexing.html#indexing-view-versus-copy\n",
      "/Users/rentakakura/anaconda/envs/jupyter-env/lib/python3.6/site-packages/matplotlib/pyplot.py:524: RuntimeWarning: More than 20 figures have been opened. Figures created through the pyplot interface (`matplotlib.pyplot.figure`) are retained until explicitly closed and may consume too much memory. (To control this warning, see the rcParam `figure.max_open_warning`).\n",
      "  max_open_warning, RuntimeWarning)\n",
      "/Users/rentakakura/anaconda/envs/jupyter-env/lib/python3.6/site-packages/matplotlib/axes/_axes.py:6201: RuntimeWarning: invalid value encountered in true_divide\n",
      "  m = (m.astype(float) / db) / m.sum()\n"
     ]
    }
   ],
   "source": [
    "        for j in range(dfmeandiff.columns.get_loc(cell_f),dfmeandiff.columns.get_loc(cell_l)+1):\n",
    "            plt.figure(figsize=(5.4, 3.6), dpi=80)\n",
    "            plt.plot(dfmeandiff_std['Slice'],dfmeandiff_std[dfmeandiff.columns[j]],color='black')\n",
    "            for i in range(0,dfmeandiff.shape[0]):\n",
    "                if dfmeandiff.iloc[i].loc['FZ'] == 1:\n",
    "                    if dfmeandiff.iloc[i].loc['X']  <= 125:\n",
    "                        if dfmeandiff.iloc[i].loc['Y']  <=100:\n",
    "                            Color='lightpink'\n",
    "                        else:\n",
    "                            Color='lightblue'\n",
    "                    else:\n",
    "                        if dfmeandiff.iloc[i].loc['Y']  <=100:\n",
    "                            Color='silver'\n",
    "                        else:\n",
    "                            Color='lightgreen'\n",
    "                    plt.fill([dfmeandiff.iloc[i].loc['Slice'],dfmeandiff.iloc[i].loc['Slice']+1,dfmeandiff.iloc[i].loc['Slice']+1,dfmeandiff.iloc[i].loc['Slice']],[-5.0,-5.0,10.0,10.0],color=Color)\n",
    "                if (dfmeandiff.iloc[i].loc['Shock'] == 1):\n",
    "                    plt.plot([dfmeandiff.iloc[i].loc['Slice'],dfmeandiff.iloc[i].loc['Slice']],[-5.0,10.0],color='red',linestyle='dashed')\n",
    "            plt.plot([dfmeandiff.iloc[0].loc['Slice'],dfmeandiff.iloc[dfmeandiff.shape[0]-1].loc['Slice']],[5.0,5.0],color='red',linewidth=0.5)\n",
    "            plt.plot([dfmeandiff.iloc[0].loc['Slice'],dfmeandiff.iloc[dfmeandiff.shape[0]-1].loc['Slice']],[4.0,4.0],color='red',linewidth=0.5)\n",
    "            plt.plot([dfmeandiff.iloc[0].loc['Slice'],dfmeandiff.iloc[dfmeandiff.shape[0]-1].loc['Slice']],[3.0,3.0],color='red',linewidth=0.5)\n",
    "            plt.plot([dfmeandiff.iloc[0].loc['Slice'],dfmeandiff.iloc[dfmeandiff.shape[0]-1].loc['Slice']],[2.0,2.0],color='red',linewidth=0.5)\n",
    "            plt.plot([dfmeandiff.iloc[0].loc['Slice'],dfmeandiff.iloc[dfmeandiff.shape[0]-1].loc['Slice']],[1.0,1.0],color='red',linewidth=0.5)\n",
    "            plt.ylim(-5.0,10.0)\n",
    "            plt.xlabel('Slice')\n",
    "            plt.ylabel('Ca2+Img(std)')        \n",
    "            title_name='slicediffini_%s_%s' % (phase,dfmean.columns[j])\n",
    "            plt.title(title_name)\n",
    "            file_name='%s/python/fig/'%(mouse) +title_name+'.png'\n",
    "            plt.savefig(file_name)\n",
    "\n",
    "        #trajectoryを記録\n",
    "        #plt.plot(df[\"X\"],df[\"Y\"],marker=\"o\",color=\"blue\")\n",
    "        plt.show()\n",
    "        plt.figure()\n",
    "        plt.ylim(0,200)\n",
    "        plt.xlim(0,250)\n",
    "        plt.plot(df[\"X\"],df[\"Y\"],marker=\"o\",color=\"blue\")\n",
    "        df_FZ=df[df[\"FZ\"]!=0]\n",
    "        df_nFZ=df[df[\"FZ\"]==0]\n",
    "        title_name='trajectory_%s' % (phase)\n",
    "        plt.title(title_name)\n",
    "        file_name='%s/python/fig/'%(mouse)+title_name+'.png'\n",
    "        plt.xlabel('X')\n",
    "        plt.ylabel('Y')\n",
    "        plt.savefig(file_name)\n",
    "\n",
    "        #FZpointを記録\n",
    "        plt.figure()\n",
    "        plt.scatter(df_FZ[\"X\"],df_FZ[\"Y\"],marker=\"o\",color=\"blue\")\n",
    "        plt.ylim(0,200)\n",
    "        plt.xlim(0,250)\n",
    "        title_name='FZpoint_%s' % (phase)\n",
    "        plt.xlabel('X')\n",
    "        plt.ylabel('Y')\n",
    "        plt.title(title_name)\n",
    "        file_name='%s/python/fig/'%(mouse)+title_name+'.png'\n",
    "        plt.savefig(file_name)\n",
    "\n",
    "        #shockのphaseにおいて、shock_pointを記録\n",
    "        if phase=='A2' or phase=='A6':\n",
    "            plt.figure()\n",
    "            df_shock=df[df['Shock']==1]\n",
    "            plt.scatter(df_shock[\"X\"],df_shock[\"Y\"],marker=\"o\",color=\"red\")\n",
    "            for i in range(0,df_shock.shape[0]):\n",
    "                plt.annotate(int(df_shock.iloc[i].loc[\"Slice\"]), (df_shock.iloc[i].loc[\"X\"], df_shock.iloc[i].loc[\"Y\"]),size=10)\n",
    "            plt.xlim(0,250)\n",
    "            plt.ylim(0,200)\n",
    "            title_name='shock_point_%s' % (phase)\n",
    "            plt.title(title_name)\n",
    "            file_name='%s/python/fig/'%(mouse)+title_name+'.png'\n",
    "            plt.savefig(file_name)\n",
    "\n",
    "            #shockのphaseにおいて、histshockを記録\n",
    "            shocked_time=df_shock.iloc[0].loc['Slice']\n",
    "            for j in range(df.columns.get_loc(cell_f),df.columns.get_loc(cell_l)+1):   \n",
    "                df_b=df[(df['Slice']<shocked_time)]\n",
    "                df_a=df[(df['Slice']>=shocked_time)]\n",
    "                plt.hist([df_b[df.columns[j]],df_a[df.columns[j]]],bins=10,normed=True,label=['beforeSHOCK','afterSHOCK'])\n",
    "                plt.xlabel('Ca2+img')\n",
    "                plt.ylabel('density')\n",
    "                #plt.ylim(0,5)\n",
    "                title_name='histshock_%s_%s' % (phase,df.columns[j])\n",
    "                plt.title(title_name)\n",
    "                file_name='%s/python/fig/'%(mouse)+title_name+'.png'\n",
    "                plt.savefig(file_name)\n",
    "\n",
    "    #heatmapの作成\n",
    "\n",
    "    dfmap=pd.DataFrame(index=np.arange(195,-5,-200/20),columns=np.arange(6.25,256.25,250/20))\n",
    "    dfmap_n=pd.DataFrame(index=np.arange(195,-5,-200/20),columns=np.arange(6.25,256.25,250/20))\n",
    "    dfmap_d=pd.DataFrame(index=np.arange(195,-5,-200/20),columns=np.arange(6.25,256.25,250/20))\n",
    "\n",
    "    for i in range(0,20):\n",
    "\n",
    "        for j in range(0,20):\n",
    "\n",
    "            n=dfmeandiff_all[(dfmeandiff_all['X']>float(dfmap.columns[i]-6.25) )& (dfmeandiff_all['X']<float(dfmap.columns[i]+6.25) )&( dfmeandiff_all['Y']>float(dfmap.index[j]-5) )& (dfmeandiff_all['Y']<float(dfmap.index[j]+5))].shape[0]\n",
    "\n",
    "            dfmap_n.iloc[i,j]=n\n",
    "\n",
    "\n",
    "    for ts in range(1,5):\n",
    "\n",
    "        for cell in range(dfmeandiff_all.columns.get_loc(cell_f),dfmeandiff_all.columns.get_loc(cell_l)+1):\n",
    "\n",
    "            for i in range(0,20):\n",
    "\n",
    "                for j in range(0,20):\n",
    "\n",
    "                    if dfmap_n.iloc[i,j]<1.0:\n",
    "\n",
    "\n",
    "                        dfmap.iloc[i,j]=0\n",
    "\n",
    "                        dfmap_d.iloc[i,j]=0\n",
    "\n",
    "                    else:\n",
    "\n",
    "                        d=dfmeandiff_all[(dfmeandiff_all['X']>float(dfmap.columns[i]-6.25)) & (dfmeandiff_all['X']<float(dfmap.columns[i]+6.25)) & (dfmeandiff_all['Y']>float(dfmap.index[j]-5)) & (dfmeandiff_all['Y']<float(dfmap.index[j]+5) )& (dfmeandiff_all[dfmeandiff_all.columns[cell]]>ts)].shape[0]\n",
    "\n",
    "\n",
    "                        dfmap_d.iloc[i,j]=d\n",
    "\n",
    "                        dfmap.iloc[i,j]=(d/dfmap_n.iloc[i,j])\n",
    "\n",
    "            dfmap=dfmap.astype(float)\n",
    "            #dfmap.columns.astype(float)\n",
    "            #dfmap.index.astype(float)\n",
    "\n",
    "            title_name='heatdiffprob_ts%s_%s' % (ts,dfmeandiff_all.columns[cell])\n",
    "            file_name='%s/python/fig/'%(mouse)+title_name+'.png'\n",
    "            plt.title(title_name)\n",
    "            plt.xlabel('x')\n",
    "            plt.ylabel('y')\n",
    "            sns.heatmap(dfmap)\n",
    "            plt.savefig(file_name)\n",
    "\n",
    "            dfmap_d=dfmap_d.astype(float)\n",
    "            title_name='heatdiff_ts%s_%s' % (ts,dfmeandiff_all.columns[cell])\n",
    "            file_name='%s/python/fig/'%(mouse)+title_name+'.png'\n",
    "            plt.title(title_name)\n",
    "            plt.xlabel('x')\n",
    "            plt.ylabel('y')\n",
    "            sns.heatmap(dfmap_d)\n",
    "            plt.savefig(file_name)"
   ]
  },
  {
   "cell_type": "code",
   "execution_count": null,
   "metadata": {
    "collapsed": true
   },
   "outputs": [],
   "source": []
  },
  {
   "cell_type": "code",
   "execution_count": null,
   "metadata": {
    "collapsed": true
   },
   "outputs": [],
   "source": []
  },
  {
   "cell_type": "code",
   "execution_count": null,
   "metadata": {
    "collapsed": true
   },
   "outputs": [],
   "source": []
  },
  {
   "cell_type": "code",
   "execution_count": null,
   "metadata": {
    "collapsed": true
   },
   "outputs": [],
   "source": []
  },
  {
   "cell_type": "code",
   "execution_count": null,
   "metadata": {
    "collapsed": true
   },
   "outputs": [],
   "source": []
  },
  {
   "cell_type": "code",
   "execution_count": null,
   "metadata": {
    "collapsed": true
   },
   "outputs": [],
   "source": []
  },
  {
   "cell_type": "code",
   "execution_count": null,
   "metadata": {
    "collapsed": true
   },
   "outputs": [],
   "source": []
  },
  {
   "cell_type": "code",
   "execution_count": null,
   "metadata": {
    "collapsed": true
   },
   "outputs": [],
   "source": []
  },
  {
   "cell_type": "code",
   "execution_count": null,
   "metadata": {
    "collapsed": true
   },
   "outputs": [],
   "source": []
  },
  {
   "cell_type": "code",
   "execution_count": null,
   "metadata": {
    "collapsed": true
   },
   "outputs": [],
   "source": []
  },
  {
   "cell_type": "code",
   "execution_count": null,
   "metadata": {
    "collapsed": true
   },
   "outputs": [],
   "source": []
  },
  {
   "cell_type": "code",
   "execution_count": null,
   "metadata": {
    "collapsed": true
   },
   "outputs": [],
   "source": []
  },
  {
   "cell_type": "code",
   "execution_count": null,
   "metadata": {
    "collapsed": true
   },
   "outputs": [],
   "source": []
  },
  {
   "cell_type": "code",
   "execution_count": null,
   "metadata": {
    "collapsed": true
   },
   "outputs": [],
   "source": []
  },
  {
   "cell_type": "code",
   "execution_count": null,
   "metadata": {
    "collapsed": true
   },
   "outputs": [],
   "source": []
  },
  {
   "cell_type": "code",
   "execution_count": null,
   "metadata": {
    "collapsed": true
   },
   "outputs": [],
   "source": []
  },
  {
   "cell_type": "code",
   "execution_count": null,
   "metadata": {
    "collapsed": true
   },
   "outputs": [],
   "source": []
  },
  {
   "cell_type": "code",
   "execution_count": null,
   "metadata": {
    "collapsed": true
   },
   "outputs": [],
   "source": []
  },
  {
   "cell_type": "code",
   "execution_count": null,
   "metadata": {
    "collapsed": true
   },
   "outputs": [],
   "source": []
  },
  {
   "cell_type": "code",
   "execution_count": null,
   "metadata": {
    "collapsed": true
   },
   "outputs": [],
   "source": []
  },
  {
   "cell_type": "code",
   "execution_count": null,
   "metadata": {
    "collapsed": true
   },
   "outputs": [],
   "source": []
  },
  {
   "cell_type": "code",
   "execution_count": null,
   "metadata": {
    "collapsed": true
   },
   "outputs": [],
   "source": []
  },
  {
   "cell_type": "code",
   "execution_count": null,
   "metadata": {
    "collapsed": true
   },
   "outputs": [],
   "source": []
  },
  {
   "cell_type": "code",
   "execution_count": null,
   "metadata": {
    "collapsed": true
   },
   "outputs": [],
   "source": []
  },
  {
   "cell_type": "code",
   "execution_count": null,
   "metadata": {
    "collapsed": true
   },
   "outputs": [],
   "source": []
  },
  {
   "cell_type": "code",
   "execution_count": null,
   "metadata": {
    "collapsed": true
   },
   "outputs": [],
   "source": []
  },
  {
   "cell_type": "code",
   "execution_count": null,
   "metadata": {
    "collapsed": true
   },
   "outputs": [],
   "source": []
  },
  {
   "cell_type": "code",
   "execution_count": null,
   "metadata": {
    "collapsed": true
   },
   "outputs": [],
   "source": []
  },
  {
   "cell_type": "code",
   "execution_count": null,
   "metadata": {
    "collapsed": true
   },
   "outputs": [],
   "source": []
  },
  {
   "cell_type": "code",
   "execution_count": null,
   "metadata": {
    "collapsed": true
   },
   "outputs": [],
   "source": []
  },
  {
   "cell_type": "code",
   "execution_count": null,
   "metadata": {
    "collapsed": true
   },
   "outputs": [],
   "source": []
  },
  {
   "cell_type": "code",
   "execution_count": null,
   "metadata": {
    "collapsed": true
   },
   "outputs": [],
   "source": []
  },
  {
   "cell_type": "code",
   "execution_count": null,
   "metadata": {
    "collapsed": true
   },
   "outputs": [],
   "source": []
  },
  {
   "cell_type": "code",
   "execution_count": null,
   "metadata": {
    "collapsed": true
   },
   "outputs": [],
   "source": []
  },
  {
   "cell_type": "code",
   "execution_count": null,
   "metadata": {
    "collapsed": true
   },
   "outputs": [],
   "source": []
  },
  {
   "cell_type": "code",
   "execution_count": null,
   "metadata": {
    "collapsed": true
   },
   "outputs": [],
   "source": []
  },
  {
   "cell_type": "code",
   "execution_count": null,
   "metadata": {
    "collapsed": true
   },
   "outputs": [],
   "source": []
  },
  {
   "cell_type": "code",
   "execution_count": null,
   "metadata": {
    "collapsed": true
   },
   "outputs": [],
   "source": []
  },
  {
   "cell_type": "code",
   "execution_count": null,
   "metadata": {
    "collapsed": true
   },
   "outputs": [],
   "source": []
  },
  {
   "cell_type": "code",
   "execution_count": null,
   "metadata": {
    "collapsed": true
   },
   "outputs": [],
   "source": []
  },
  {
   "cell_type": "code",
   "execution_count": null,
   "metadata": {
    "collapsed": true
   },
   "outputs": [],
   "source": []
  },
  {
   "cell_type": "code",
   "execution_count": null,
   "metadata": {
    "collapsed": true
   },
   "outputs": [],
   "source": []
  },
  {
   "cell_type": "code",
   "execution_count": null,
   "metadata": {
    "collapsed": true
   },
   "outputs": [],
   "source": []
  }
 ],
 "metadata": {
  "kernelspec": {
   "display_name": "Python 3",
   "language": "python",
   "name": "python3"
  },
  "language_info": {
   "codemirror_mode": {
    "name": "ipython",
    "version": 3
   },
   "file_extension": ".py",
   "mimetype": "text/x-python",
   "name": "python",
   "nbconvert_exporter": "python",
   "pygments_lexer": "ipython3",
   "version": "3.6.2"
  }
 },
 "nbformat": 4,
 "nbformat_minor": 2
}
