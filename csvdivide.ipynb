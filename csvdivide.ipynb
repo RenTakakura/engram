{
 "cells": [
  {
   "cell_type": "code",
   "execution_count": 11,
   "metadata": {
    "collapsed": true
   },
   "outputs": [],
   "source": [
    "import pandas as pd\n",
    "import numpy as np\n",
    "from sklearn.preprocessing import StandardScaler\n",
    "import matplotlib\n",
    "matplotlib.use('Agg')\n",
    "import matplotlib.pyplot as plt"
   ]
  },
  {
   "cell_type": "code",
   "execution_count": 12,
   "metadata": {
    "collapsed": true
   },
   "outputs": [],
   "source": [
    "#マウスリストの作成、神経データが記録されている全フェーズリストの作成\n",
    "mouse_17list=[\"ID170704C\",\"ID170704E\",\"ID170704F\",\"ID170704G\"]\n",
    "mouse_13list = [\"ID138464-1\",\"ID138464-2\",\"ID138464-3\",\"ID138464-4\",\"ID138464-5\",\"ID138464-6\"]\n",
    "mouse_list=mouse_13list+mouse_17list\n",
    "phaseall_list=[\"HC1\",\"B1\",\"B2\",\"HC2\",\"A1\",\"A2\",\"A31\",\"A32\",\"A41\",\"A42\",\"HC3\",\"A5\",\"B3\",\"A6\",\"HC4\",\"A7\",\"B4\"]\n",
    "phase_Ablist=[\"A1\",\"A2\",\"A31\",\"A32\",\"A41\",\"A42\",\"A5\",\"A6\",\"A7\"]\n",
    "phase_Alist=[\"A1\",\"A20\",\"A21\",\"A22\",\"A23\",\"A31\",\"A32\",\"A41\",\"A42\",\"A5\",\"A60\",\"A61\",\"A62\",\"A63\",\"A7\"]\n",
    "phase_Blist=[\"B1\",\"B2\",\"B3\",\"B4\"]\n",
    "phase_Hlist=[\"HC1\",\"HC2\",\"HC3\",\"HC4\"]\n",
    "phase_ABlist=phase_Ablist+phase_Blist\n",
    "phase_shocklist=[\"A2\",\"A6\"]\n",
    "phase_shockdivlist=[0,1,2,3]\n",
    "phase_daydivlist=[0,3,10,14,17]"
   ]
  },
  {
   "cell_type": "code",
   "execution_count": 3,
   "metadata": {
    "scrolled": false
   },
   "outputs": [
    {
     "name": "stderr",
     "output_type": "stream",
     "text": [
      "/Users/rentakakura/anaconda/envs/jupyter-env/lib/python3.6/site-packages/IPython/core/interactiveshell.py:2698: DtypeWarning: Columns (0,1,2,3,4,5,6,7,8,9,10,11,12,13,14,15,16,17,18,19,20,21,22,23,24,25,26,27,28,29,30,31,32,33,34,35,36,37,38,39,40,41,42,43,44,45,46,47,48,49,50,51,52,53,54,55,56,57,58,59,60,61,62,63,64,65,66,67,68,69,70,71,72,73,74,75,76,77,78,79,80,81,82,83,84,85,86,87,88,89,90,91,92,93,94,95,96,97,98,99,100,101,102,103,104,105,106,107,108,109,110,111,112,113,114,115,116,117,118,119,120,121,122,123,124,125,126,127,128,129,130,131,132,133,134,135,136,137,138,139,140,141,142,143,144,145,146,147,148,149,150,151,152,153,154,155,156,157,158,159,160,161,162,163,164,165,166,167,168,169,170,171,172,173,174,175,176,177,178,179,180,181,182,183,184,185,186,187,188,189,190,191,192,193,194,195,196,197,198,199,200,201,202,203,204,205,206,207,208,209,210,211,212,213,214,215,216,217,218,219,220,221,222,223,224,225,226,227,228,229,230,231,232,233,234,235,236,237,238,239,240,241,242,243,244,245,246,247,248,249,250,251) have mixed types. Specify dtype option on import or set low_memory=False.\n",
      "  interactivity=interactivity, compiler=compiler, result=result)\n",
      "/Users/rentakakura/anaconda/envs/jupyter-env/lib/python3.6/site-packages/pandas/core/indexing.py:189: SettingWithCopyWarning: \n",
      "A value is trying to be set on a copy of a slice from a DataFrame\n",
      "\n",
      "See the caveats in the documentation: http://pandas.pydata.org/pandas-docs/stable/indexing.html#indexing-view-versus-copy\n",
      "  self._setitem_with_indexer(indexer, value)\n",
      "/Users/rentakakura/anaconda/envs/jupyter-env/lib/python3.6/site-packages/ipykernel_launcher.py:128: SettingWithCopyWarning: \n",
      "A value is trying to be set on a copy of a slice from a DataFrame\n",
      "\n",
      "See the caveats in the documentation: http://pandas.pydata.org/pandas-docs/stable/indexing.html#indexing-view-versus-copy\n",
      "/Users/rentakakura/anaconda/envs/jupyter-env/lib/python3.6/site-packages/IPython/core/interactiveshell.py:2698: DtypeWarning: Columns (0,1,2,3,4,5,6,7,8,9,10,11,12,13,14,15,16,17,18,19,20,21,22,23,24,25,26,27,28,29,30,31,32,33,34,35,36,37,38,39,40,41,42,43,44,45,46,47,48,49,50,51,52,53,54,55,56,57,58,59,60,61,62,63,64,65,66,67,68,69,70,71,72,73,74,75,76,77,78,79,80,81,82,83,84,85,86,87,88,89,90,91,92,93,94,95,96,97,98,99,100,101,102,103,104,105,106,107,108,109,110,111,112,113,114,115,116,117,118,119,120,121,122,123,124,125,126,127,128,129,130,131,132,133,134,135,136,137,138,139,140,141,142,143,144,145,146,147,148,149,150,151,152,153,154,155,156,157,158,159,160,161,162,163,164,165,166,167,168,169,170,171,172,173,174,175,176,177,178,179,180,181,182,183,184,185,186,187,188,189,190,191,192,193,194,195,196,197,198,199,200,201,202,203,204,205,206,207,208,209,210,211,212,213,214,215,216,217,218,219,220,221,222,223,224,225,226,227,228,229,230,231,232,233,234,235,236,237,238,239,240,241,242,243,244,245,246,247,248,249,250,251,252,253) have mixed types. Specify dtype option on import or set low_memory=False.\n",
      "  interactivity=interactivity, compiler=compiler, result=result)\n",
      "/Users/rentakakura/anaconda/envs/jupyter-env/lib/python3.6/site-packages/IPython/core/interactiveshell.py:2698: DtypeWarning: Columns (0,1,2,3,4,5,6,7,8,9,10,11,12,13,14,15,16,17,18,19,20,21,22,23,24,25,26,27,28,29,30,31,32,33,34,35,36,37,38,39,40,41,42,43,44,45,46,47,48,49,50,51,52,53,54,55,56,57,58,59,60,61,62,63,64,65,66,67,68,69,70,71,72,73,74,75,76,77,78,79,80,81,82,83,84,85,86,87,88,89,90,91,92,93,94,95,96,97,98,99,100,101,102,103,104,105,106,107,108,109,110,111,112,113,114,115,116,117,118,119,120,121,122,123,124,125,126,127,128,129,130,131,132,133,134,135,136,137,138,139,140,141,142,143,144,145,146,147,148,149,150,151,152,153,154,155,156,157,158,159,160,161,162,163,164,165,166,167,168,169,170,171,172,173,174,175,176,177,178,179,180,181,182,183,184,185,186,187,188,189,190,191,192,193,194,195,196,197,198,199,200,201,202,203,204,205,206,207,208,209,210,211,212,213,214,215,216,217,218,219,220,221,222,223,224,225,226,227,228,229,230,231,232,233,234,235,236,237,238,239,240,241,242,243,244,245,246,247,248,249,250,251,252,253,254,255,256,257,258,259,260,261,262,263,264,265,266,267,268,269,270,271,272,273,274,275,276,277,278,279,280,281,282,283,284,285,286,287,288,289,290,291,292,293,294,295,296,297,298,299,300,301,302,303,304,305,306,307,308,309,310,311,312,313,314,315,316,317,318,319,320,321,322,323,324,325,326,327,328,329,330,331,332,333,334,335,336,337,338,339,340,341,342,343,344,345,346,347,348,349,350,351) have mixed types. Specify dtype option on import or set low_memory=False.\n",
      "  interactivity=interactivity, compiler=compiler, result=result)\n",
      "/Users/rentakakura/anaconda/envs/jupyter-env/lib/python3.6/site-packages/IPython/core/interactiveshell.py:2698: DtypeWarning: Columns (0,1,2,3,4,5,6,7,8,9,10,11,12,13,14,15,16,17,18,19,20,21,22,23,24,25,26,27,28,29,30,31,32,33,34,35,36,37,38,39,40,41,42,43,44,45,46,47,48,49,50,51,52,53,54,55,56,57,58,59,60,61,62,63,64,65,66,67,68,69,70,71,72,73,74,75,76,77,78,79,80,81,82,83,84,85,86,87,88,89,90,91,92,93,94,95,96,97,98,99,100,101,102,103,104,105,106,107,108,109,110,111,112,113,114,115,116,117,118,119,120,121,122,123,124,125,126,127,128,129,130,131,132) have mixed types. Specify dtype option on import or set low_memory=False.\n",
      "  interactivity=interactivity, compiler=compiler, result=result)\n"
     ]
    }
   ],
   "source": [
    "#対象マウス決定\n",
    "\n",
    "for m in range(len(mouse_list)):\n",
    "\n",
    "    mouse = mouse_list[m]\n",
    "\n",
    "    #神経データをデータフレームにインポートする\n",
    "    inputf='%s/python/%s_Longitudinal_Traces.csv' %(mouse,mouse)\n",
    "    dff=pd.read_csv(inputf,header=0)\n",
    "    dff0=pd.DataFrame()\n",
    "\n",
    "    #Acceptのみを抽出したデータフレームの作成\n",
    "    dff0=dff.iloc[0,:]\n",
    "    Accept=dff0.index[dff0==' accepted']\n",
    "    dfa=pd.DataFrame()\n",
    "    dfa['Time2']=dff.iloc[1:,0]\n",
    "    for accept_c in range (0,len(Accept)):\n",
    "        dfa[Accept[accept_c]]=dff[Accept[accept_c]].iloc[1:]\n",
    "        dfa=dfa.astype('float')\n",
    "\n",
    "    #Acceptcellのfirst cellとlast cellを抽出\n",
    "    cell_f=dfa.columns[1]\n",
    "    cell_l=dfa.columns[dfa.shape[1]-1]\n",
    "\n",
    "    #レコード間の時間差からphaseを割り当てる\n",
    "    dfa['dt']=dfa['Time2'].diff()\n",
    "    dfa['dt'].iloc[0]=0.05\n",
    "    dfa['phase']=-1\n",
    "    phase=0\n",
    "    for i in range(0,dfa.shape[0]):    \n",
    "        if(dfa['dt'].iloc[i]>10):        \n",
    "            phase=phase+1\n",
    "        dfa.iloc[i,dfa.columns.get_loc('phase')]=phaseall_list[phase]\n",
    "\n",
    "    #割り当てたphaseごとにcsvを生成(XYdataがphaseごとに生成されているため)\n",
    "    for phase in range(0,len(phaseall_list)):    \n",
    "        outputf='%s/python/%s_%s_Long_Traces.csv' %(mouse,mouse,phaseall_list[phase])    \n",
    "        df_phase=dfa[dfa['phase']==phaseall_list[phase]]        \n",
    "        df_phase.to_csv(outputf,index=False)\n",
    "        \n",
    "    #このコード時点でdayごとにstd化してしまう\n",
    "    for day in range(len(phase_daydivlist)-1):\n",
    "        \n",
    "        df_day=pd.DataFrame()\n",
    "        \n",
    "        for ph_d in range(phase_daydivlist[day],phase_daydivlist[day+1]):\n",
    "            \n",
    "            inputf='%s/python/%s_%s_Long_Traces.csv' %(mouse,mouse,phaseall_list[ph_d])\n",
    "            \n",
    "            df_d=pd.read_csv(inputf,header=0)\n",
    "            \n",
    "            df_day=pd.concat([df_day,df_d])\n",
    "            \n",
    "        for ph_d in range(phase_daydivlist[day],phase_daydivlist[day+1]):            \n",
    "            \n",
    "            inputf='%s/python/%s_%s_Long_Traces.csv' %(mouse,mouse,phaseall_list[ph_d])\n",
    "            \n",
    "            df_d=pd.read_csv(inputf,header=0)\n",
    "            \n",
    "            df_dstd=pd.DataFrame(index=df_d.index,columns=df_d.columns)\n",
    "            \n",
    "            for col_b in range(0,df_dstd.columns.get_loc(cell_f)):\n",
    "                \n",
    "                    df_dstd[df_dstd.columns[col_b]]=df_d[df_d.columns[col_b]]\n",
    "            \n",
    "            for col in range(df_dstd.columns.get_loc(cell_f),df_dstd.columns.get_loc(cell_l)+1):\n",
    "                \n",
    "                df_dstd[df_dstd.columns[col]]=(df_d[df_dstd.columns[col]]-df_day[df_dstd.columns[col]].mean())/(df_day[df_dstd.columns[col]].std())\n",
    "\n",
    "                                                                        \n",
    "            for col_l in range(df_dstd.columns.get_loc(cell_l)+1,df_dstd.shape[1]):\n",
    "                \n",
    "                df_dstd[df_dstd.columns[col_l]]=df_d[df_dstd.columns[col_l]]\n",
    "                \n",
    "            outputf='%s/python/%s_%s_Long_Traces_std.csv' %(mouse,mouse,phaseall_list[ph_d])\n",
    "            \n",
    "            df_dstd.to_csv(outputf,index=False)\n",
    "            \n",
    "                \n",
    "    #XYデータにヘッダー情報がたくさん入っている、かつcsvなのでヘッダー情報をカラム情報以外取り除き、csvに出力する\n",
    "    phasepre_list=[\"B1\",\"B2\",\"A1\",\"A2\",\"A3\",\"A4\",\"A5\",\"B3\",\"A6\",\"A7\",\"B4\"]\n",
    "    for phase_pre in range(0,len(phasepre_list)):\n",
    "        inputXY='%s/python/%s_XYdata/%s_%s_%s_XY.txt' %(mouse,mouse,mouse,phase_pre+1,phasepre_list[phase_pre])\n",
    "        outputXY='%s/python/%s_XYdata/%s_%s_XY.csv' %(mouse,mouse,mouse,phasepre_list[phase_pre])\n",
    "        dfxyp=pd.read_table(inputXY)\n",
    "        h=dfxyp[dfxyp['TimeFZ4']=='Slice'].index[0]\n",
    "        dfxy=pd.read_table(inputXY,header=h+1)\n",
    "        dfxy.to_csv(outputXY,index=False)\n",
    "\n",
    "    #XYデータがA3,A4を前半後半に分割していないので分割してからcsvに\n",
    "    phasetransb_list=[\"A3\",\"A4\"]\n",
    "    phasetransa_list=[\"A31\",\"A32\",\"A41\",\"A42\"]\n",
    "    for phase_b in range(0,2):\n",
    "        inputXY='%s/python/%s_XYdata/%s_%s_%s_XY.txt' %(mouse,mouse,mouse,phase_b+5,phasetransb_list[phase_b])\n",
    "        for phase_a in range(0, 2):\n",
    "            outputXY='%s/python/%s_XYdata/%s_%s_XY.csv' %(mouse,mouse,mouse,phasetransa_list[2*phase_b+phase_a])\n",
    "            dfxyp=pd.read_table(inputXY)\n",
    "            h=dfxyp[dfxyp['TimeFZ4']=='Slice'].index[0]\n",
    "            dfxy=pd.read_table(inputXY,header=h+1)\n",
    "            dfxy.iloc[3000*phase_a+0:3000*phase_a+621,:].to_csv(outputXY,index=False)\n",
    "\n",
    "    #phaseごとに分析をする\n",
    "    for ph in range(0,len(phase_ABlist)):\n",
    "        phase=phase_ABlist[ph]\n",
    "        inputXY='%s/python/%s_XYdata/%s_%s_XY.csv' %(mouse,mouse,mouse,phase)\n",
    "        dfx = pd.read_csv(inputXY,header=0)\n",
    "        inputT='%s/python/%s_%s_Long_Traces_std.csv' %(mouse,mouse,phase)\n",
    "        dfl=pd.read_csv(inputT,header=0)\n",
    "        \n",
    "        #ここで神経データと行動データを結合       \n",
    "        dfx_m=pd.DataFrame(columns=dfx.columns,index=np.arange(0,int(dfx.iloc[dfx.shape[0]-1].loc['Slice']-1)*10))\n",
    "        for i in range(2,int(dfx.shape[0])):\n",
    "            for j in range(0,10):\n",
    "                for k in range(0,len(dfx_m.columns)):\n",
    "                    dfx_m.iloc[(i-2)*10+j].loc[dfx_m.columns[k]]=dfx.iloc[i].loc[dfx_m.columns[k]]\n",
    "        df=pd.concat([dfx_m, dfl], axis=1)\n",
    "        df=df.dropna(how='any')\n",
    "        outputf='%s/python/%s_%s_con_std.csv' %(mouse,mouse,phase)          \n",
    "        df.to_csv(outputf,index=False)\n",
    "\n",
    "        #Sliceごとに平均をとったdfmeanの作成\n",
    "        Index=np.arange(int(df.iloc[0].loc['Slice']),int(df.iloc[df.shape[0]-1].loc['Slice']+1),1)\n",
    "        df_mean=pd.DataFrame(index=Index,columns=[])\n",
    "        for i in range(0,len(df.columns)):\n",
    "            df_mean[df.columns[i]]=-100\n",
    "        for i_n in range(int(df.iloc[0].loc['Slice']),int(df.iloc[df.shape[0]-1].loc['Slice']+1)):\n",
    "            i = i_n - int(df.iloc[0].loc['Slice'])\n",
    "            df_mean.iloc[i].loc['Slice']=i_n\n",
    "            dfs = df[df['Slice']==i_n]\n",
    "            for k in range(0,df.columns.get_loc('Time2')+1):\n",
    "                df_mean.iloc[i,k]=dfs.iloc[0,k]\n",
    "            for j in range(dfs.columns.get_loc(cell_f),dfs.columns.get_loc(cell_l)+1):\n",
    "                df_mean.iloc[i,j]=dfs[dfs.columns[j]].mean()\n",
    "            for l in range(dfs.columns.get_loc(cell_l)+1,dfs.shape[1]):\n",
    "                df_mean.iloc[i,l]=dfs.iloc[0,l]\n",
    "        dfmean=df_mean\n",
    "        outputf='%s/python/%s_%s_mean_std.csv' %(mouse,mouse,phase)          \n",
    "        dfmean.to_csv(outputf,index=False)\n",
    "        \n",
    "    for ph in range(len(phase_Hlist)):\n",
    "        phase=phase_Hlist[ph]\n",
    "        inputT='%s/python/%s_%s_Long_Traces_std.csv' %(mouse,mouse,phase)\n",
    "        dfl=pd.read_csv(inputT,header=0)\n",
    "        \n",
    "        #ここで神経データと行動データを結合       \n",
    "        dfx_m=pd.DataFrame(columns=dfx.columns,index=np.arange(0,int(dfx.iloc[dfx.shape[0]-1].loc['Slice']-1)*10))\n",
    "        for i in range(2,int(dfx.shape[0])):\n",
    "            for j in range(0,10):\n",
    "                for k in range(0,len(dfx_m.columns)):\n",
    "                    dfx_m.iloc[(i-2)*10+j].loc[dfx_m.columns[k]]=dfx.iloc[i].loc[dfx_m.columns[k]]\n",
    "        df=dfl\n",
    "        df=df.dropna(how='any')\n",
    "        outputf='%s/python/%s_%s_con_std.csv' %(mouse,mouse,phase)          \n",
    "        df.to_csv(outputf,index=False)\n",
    "\n",
    "        #Sliceごとに平均をとったdfmeanの作成\n",
    "        Index=np.arange(int(df.iloc[0].loc['Slice']),int(df.iloc[df.shape[0]-1].loc['Slice']+1),1)\n",
    "        df_mean=pd.DataFrame(index=Index,columns=[])\n",
    "        for i in range(0,len(df.columns)):\n",
    "            df_mean[df.columns[i]]=-100\n",
    "        for i_n in range(int(df.iloc[0].loc['Slice']),int(df.iloc[df.shape[0]-1].loc['Slice']+1)):\n",
    "            i = i_n - int(df.iloc[0].loc['Slice'])\n",
    "            df_mean.iloc[i].loc['Slice']=i_n\n",
    "            dfs = df[df['Slice']==i_n]\n",
    "            for k in range(0,df.columns.get_loc('Time2')+1):\n",
    "                df_mean.iloc[i,k]=dfs.iloc[0,k]\n",
    "            for j in range(dfs.columns.get_loc(cell_f),dfs.columns.get_loc(cell_l)+1):\n",
    "                df_mean.iloc[i,j]=dfs[dfs.columns[j]].mean()\n",
    "            for l in range(dfs.columns.get_loc(cell_l)+1,dfs.shape[1]):\n",
    "                df_mean.iloc[i,l]=dfs.iloc[0,l]\n",
    "        dfmean=df_mean\n",
    "        outputf='%s/python/%s_%s_mean_std.csv' %(mouse,mouse,phase)          \n",
    "        dfmean.to_csv(outputf,index=False)"
   ]
  },
  {
   "cell_type": "code",
   "execution_count": 4,
   "metadata": {},
   "outputs": [
    {
     "name": "stderr",
     "output_type": "stream",
     "text": [
      "/Users/rentakakura/anaconda/envs/jupyter-env/lib/python3.6/site-packages/pandas/core/indexing.py:189: SettingWithCopyWarning: \n",
      "A value is trying to be set on a copy of a slice from a DataFrame\n",
      "\n",
      "See the caveats in the documentation: http://pandas.pydata.org/pandas-docs/stable/indexing.html#indexing-view-versus-copy\n",
      "  self._setitem_with_indexer(indexer, value)\n"
     ]
    }
   ],
   "source": [
    "for m in range(len(mouse_list)):\n",
    "    \n",
    "    mouse=mouse_list[m]\n",
    "    \n",
    "    for ph_p in range(len(phase_shocklist)):\n",
    "    \n",
    "        phase_p=phase_shocklist[ph_p]\n",
    "        \n",
    "        inputf='%s/python/%s_%s_mean_std.csv'%(mouse,mouse,phase_p)\n",
    "    \n",
    "        dfmean_p=pd.read_csv(inputf,header=0)\n",
    "    \n",
    "        dfmean_p['session']=dfmean_p['Shock']-dfmean_p['Shock'].shift(1)\n",
    "    \n",
    "        dfmean_p['session'].iloc[0]=1\n",
    "    \n",
    "        dfmean_p['session'].iloc[dfmean_p.shape[0]-1]=1\n",
    "    \n",
    "        division_list=dfmean_p[dfmean_p['session']==1].index\n",
    "    \n",
    "        for ph in range(len(phase_shockdivlist)):\n",
    "        \n",
    "            df_shock=dfmean_p.iloc[division_list[ph]:division_list[ph+1],:]\n",
    "\n",
    "            outputf='%s/python/%s_%s%s_mean_std.csv'%(mouse,mouse,phase_p,phase_shockdivlist[ph])\n",
    "        \n",
    "            df_shock.to_csv(outputf,index=False)"
   ]
  },
  {
   "cell_type": "code",
   "execution_count": 5,
   "metadata": {},
   "outputs": [
    {
     "name": "stderr",
     "output_type": "stream",
     "text": [
      "/Users/rentakakura/anaconda/envs/jupyter-env/lib/python3.6/site-packages/ipykernel_launcher.py:17: FutureWarning: Sorting because non-concatenation axis is not aligned. A future version\n",
      "of pandas will change to not sort by default.\n",
      "\n",
      "To accept the future behavior, pass 'sort=False'.\n",
      "\n",
      "To retain the current behavior and silence the warning, pass 'sort=True'.\n",
      "\n"
     ]
    }
   ],
   "source": [
    "for m in range(len(mouse_list)):\n",
    "    \n",
    "    mouse=mouse_list[m]\n",
    "    \n",
    "    df_all=pd.DataFrame()\n",
    "    \n",
    "    for ph in range(len(phase_Alist)):\n",
    "        \n",
    "        phase=phase_Alist[ph]\n",
    "        \n",
    "        df_phase=pd.DataFrame()\n",
    "        \n",
    "        inputf='%s/python/%s_%s_mean_std.csv'%(mouse,mouse,phase)\n",
    "        \n",
    "        df_phase=pd.read_csv(inputf,header=0)\n",
    "        \n",
    "        df_all=pd.concat([df_all,df_phase])\n",
    "        \n",
    "    outpuf='%s/python/%s_mean_std_Aall.csv'%(mouse,mouse)\n",
    "        \n",
    "    df_all.to_csv(outpuf,index=False)"
   ]
  },
  {
   "cell_type": "code",
   "execution_count": 6,
   "metadata": {
    "collapsed": true
   },
   "outputs": [],
   "source": [
    "for m in range(len(mouse_list)):\n",
    "    \n",
    "    mouse=mouse_list[m]\n",
    "    \n",
    "    df_all=pd.DataFrame()\n",
    "    \n",
    "    for ph in range(len(phase_Blist)):\n",
    "        \n",
    "        phase=phase_Blist[ph]\n",
    "        \n",
    "        df_phase=pd.DataFrame()\n",
    "        \n",
    "        inputf='%s/python/%s_%s_mean_std.csv'%(mouse,mouse,phase)\n",
    "        \n",
    "        df_phase=pd.read_csv(inputf,header=0)\n",
    "        \n",
    "        df_all=pd.concat([df_all,df_phase])\n",
    "        \n",
    "    outpuf='%s/python/%s_mean_std_Ball.csv'%(mouse,mouse)\n",
    "        \n",
    "    df_all.to_csv(outpuf,index=False)"
   ]
  },
  {
   "cell_type": "code",
   "execution_count": 13,
   "metadata": {},
   "outputs": [
    {
     "name": "stderr",
     "output_type": "stream",
     "text": [
      "/Users/rentakakura/anaconda/envs/jupyter-env/lib/python3.6/site-packages/IPython/core/interactiveshell.py:2698: DtypeWarning: Columns (0,1,2,3,4,5,6,7,8,9,10,11,12,13,14,15,16,17,18,19,20,21,22,23,24,25,26,27,28,29,30,31,32,33,34,35,36,37,38,39,40,41,42,43,44,45,46,47,48,49,50,51,52,53,54,55,56,57,58,59,60,61,62,63,64,65,66,67,68,69,70,71,72,73,74,75,76,77,78,79) have mixed types. Specify dtype option on import or set low_memory=False.\n",
      "  interactivity=interactivity, compiler=compiler, result=result)\n",
      "/Users/rentakakura/anaconda/envs/jupyter-env/lib/python3.6/site-packages/pandas/core/indexing.py:189: SettingWithCopyWarning: \n",
      "A value is trying to be set on a copy of a slice from a DataFrame\n",
      "\n",
      "See the caveats in the documentation: http://pandas.pydata.org/pandas-docs/stable/indexing.html#indexing-view-versus-copy\n",
      "  self._setitem_with_indexer(indexer, value)\n",
      "/Users/rentakakura/anaconda/envs/jupyter-env/lib/python3.6/site-packages/ipykernel_launcher.py:42: SettingWithCopyWarning: \n",
      "A value is trying to be set on a copy of a slice from a DataFrame\n",
      "\n",
      "See the caveats in the documentation: http://pandas.pydata.org/pandas-docs/stable/indexing.html#indexing-view-versus-copy\n",
      "/Users/rentakakura/anaconda/envs/jupyter-env/lib/python3.6/site-packages/IPython/core/interactiveshell.py:2698: DtypeWarning: Columns (0,1,2,3,4,5,6,7,8,9,10,11,12,13,14,15,16,17,18,19,20,21,22,23,24,25,26,27,28,29,30,31,32,33,34,35,36,37,38,39,40,41,42,43,44,45,46,47,48,49,50,51,52,53,54,55,56,57,58,59,60,61,62,63,64,65,66,67,68,69,70,71,72,73,74,75,76,77,78,79,80,81,82,83,84,85,86,87,88,89,90,91,92,93,94,95,96,97,98,99,100,101,102,103,104,105,106,107,108,109,110,111,112,113,114,115,116,117,118,119,120,121,122,123,124,125,126,127,128,129,130,131,132,133,134,135,136,137,138,139,140,141,142,143,144,145,146,147,148,149,150,151,152,153,154,155,156,157,158,159,160,161,162,163,164,165,166,167,168,169,170,171,172,173,174,175,176,177,178,179,180,181,182,183,184,185,186,187,188,189,190,191,192,193,194,195,196,197,198,199,200,201,202,203,204,205,206,207,208,209,210,211,212,213,214,215,216,217,218,219,220,221,222,223,224,225,226,227,228,229,230,231,232,233,234,235,236,237,238,239,240,241,242,243,244,245,246,247,248,249,250,251,252,253,254,255,256,257,258,259,260,261,262,263,264,265,266,267,268,269,270,271,272,273,274,275,276,277,278,279,280,281,282,283,284,285,286,287,288,289,290,291,292,293,294,295,296,297,298,299,300,301,302,303,304,305,306,307,308,309,310,311,312,313,314,315,316,317,318,319,320,321,322,323,324,325,326,327,328,329,330,331,332,333,334,335,336,337,338,339,340,341,342,343,344,345,346,347,348,349,350,351,352,353,354,355,356,357,358,359,360,361,362,363,364,365,366,367,368,369,370,371,372,373,374,375,376,377,378,379,380,381,382,383,384,385,386,387,388,389,390,391,392,393,394,395,396,397,398,399,400,401,402,403,404,405,406,407,408,409,410,411,412,413,414,415,416,417,418,419,420,421,422,423,424,425,426,427,428,429,430,431,432,433,434,435,436,437,438,439,440,441,442,443,444,445,446,447,448,449,450,451,452,453,454,455,456,457,458,459,460,461,462,463,464,465,466,467,468,469,470,471,472,473,474,475,476,477,478,479,480,481,482,483,484,485,486,487,488,489,490,491,492,493,494,495,496,497,498,499,500,501,502,503,504,505,506,507,508,509,510,511,512,513,514,515,516,517,518,519,520,521,522,523,524,525,526,527,528,529,530,531,532,533,534,535,536,537,538,539,540,541,542,543,544,545,546,547,548,549,550,551,552,553,554,555,556,557,558,559,560,561,562,563,564,565,566,567,568,569,570,571,572,573,574,575,576,577,578,579,580,581,582,583,584,585,586,587,588,589,590,591,592,593,594,595,596,597,598,599,600,601,602,603,604,605,606,607,608,609,610,611,612,613,614,615,616,617,618,619,620,621,622,623,624,625,626,627,628,629,630,631,632,633,634,635,636,637,638,639,640,641,642,643,644,645,646,647,648,649,650,651,652,653,654,655,656,657,658,659,660,661,662,663,664,665,666,667,668,669,670,671,672,673,674,675,676,677,678,679,680,681,682,683,684,685,686,687,688,689,690,691,692,693,694,695,696,697,698,699,700,701,702,703,704,705,706,707,708,709,710,711,712,713,714,715,716,717,718,719,720,721,722,723,724,725,726,727,728,729,730,731,732,733,734,735,736,737,738,739,740,741,742,743,744,745,746,747,748,749,750,751,752,753,754,755,756,757,758,759,760,761,762,763,764,765,766,767,768,769,770,771,772,773,774,775,776,777,778,779,780,781,782,783,784,785,786,787,788,789,790,791,792,793,794,795,796,797,798,799,800,801,802,803,804,805,806,807,808,809,810,811,812,813,814,815,816,817,818,819,820,821,822,823,824,825,826,827,828,829,830,831,832,833,834,835,836,837,838,839,840,841,842,843,844,845,846,847,848,849,850,851,852,853,854,855,856,857,858,859,860,861,862,863,864,865,866,867,868,869,870,871,872,873,874,875,876,877,878,879,880,881,882,883,884,885,886,887,888,889,890,891,892,893,894,895,896,897,898,899,900,901,902,903,904,905,906,907,908,909,910,911,912,913,914,915,916,917,918,919,920,921,922,923,924,925,926,927,928,929,930,931,932,933,934,935,936,937,938,939,940,941,942,943,944,945,946,947,948,949,950,951,952,953,954,955,956,957,958,959,960,961,962,963,964,965,966,967,968,969,970,971,972,973,974,975,976,977,978,979,980,981,982,983,984,985,986,987,988,989,990,991,992) have mixed types. Specify dtype option on import or set low_memory=False.\n",
      "  interactivity=interactivity, compiler=compiler, result=result)\n",
      "/Users/rentakakura/anaconda/envs/jupyter-env/lib/python3.6/site-packages/IPython/core/interactiveshell.py:2698: DtypeWarning: Columns (0,1,2,3,4,5,6,7,8,9,10,11,12,13,14,15,16,17,18,19,20,21,22,23,24,25,26,27,28,29,30,31,32,33,34,35,36,37,38,39,40,41,42,43,44,45,46,47,48,49,50,51,52,53,54,55,56,57,58,59,60,61,62,63,64,65,66,67,68,69,70,71,72,73,74,75,76,77,78,79,80,81,82,83,84,85,86,87,88,89,90,91,92,93,94,95,96,97,98,99,100,101,102,103,104,105,106,107,108,109,110,111,112,113,114,115,116,117,118,119,120,121,122,123,124,125,126,127,128,129,130,131,132,133,134,135,136,137,138,139,140,141,142,143,144,145,146,147,148,149,150,151,152,153,154,155,156,157,158,159,160,161,162,163,164,165,166,167,168,169,170,171,172,173,174,175,176,177,178,179,180,181,182,183,184,185,186,187,188,189,190,191,192,193,194,195,196,197,198,199,200,201,202,203,204,205,206,207,208,209,210,211,212,213,214,215,216,217,218,219,220,221,222,223,224,225,226,227,228,229,230,231,232,233,234,235,236,237,238,239,240,241,242,243,244,245,246,247,248,249,250,251,252,253,254,255,256,257,258,259,260,261,262,263,264,265,266,267,268,269,270,271,272,273,274,275,276,277,278,279,280,281,282,283,284,285,286,287,288,289,290,291,292,293,294,295,296,297,298,299,300,301,302,303,304,305,306,307,308,309,310,311,312,313,314,315,316,317,318,319,320,321,322,323,324,325,326,327,328,329,330,331,332,333,334,335,336,337,338,339,340,341,342,343,344,345,346,347,348,349,350,351,352,353,354,355,356,357,358,359,360,361,362,363,364,365,366,367,368,369,370,371,372,373,374,375,376,377,378,379,380,381,382,383,384,385,386,387,388,389,390,391,392,393,394,395,396,397,398,399,400,401,402,403,404,405,406,407,408,409,410,411,412,413,414,415,416,417,418,419,420,421,422,423,424,425,426,427,428,429,430,431,432,433,434,435,436,437,438,439,440,441,442,443,444,445,446,447,448,449,450,451,452,453,454,455,456,457,458,459,460,461,462,463,464,465,466,467,468,469,470,471,472,473,474,475,476,477,478,479,480,481,482,483,484,485,486,487,488,489,490,491,492,493,494,495,496,497,498,499,500,501,502,503,504,505,506,507,508,509,510,511,512,513,514,515,516,517,518,519,520,521,522,523,524,525,526,527,528,529,530,531,532,533,534,535,536,537,538,539,540,541,542,543,544,545,546,547,548,549,550,551,552,553,554,555,556,557,558,559,560,561,562,563,564,565,566,567,568,569,570,571,572,573,574,575,576,577,578,579,580,581,582,583,584,585,586,587,588,589,590,591,592,593,594,595,596,597,598,599,600,601,602,603,604,605,606,607,608,609,610,611,612,613,614,615,616,617,618,619,620,621,622,623,624,625,626,627,628,629,630,631,632,633,634,635,636,637,638,639,640,641,642,643,644,645,646,647,648,649,650,651,652,653,654,655,656,657,658,659,660,661,662,663,664,665,666,667,668,669,670,671,672,673,674,675,676,677,678,679,680,681,682,683,684,685,686,687,688,689,690,691,692,693,694,695,696,697,698,699,700,701,702,703,704,705,706,707,708,709,710,711,712,713,714,715,716,717,718,719) have mixed types. Specify dtype option on import or set low_memory=False.\n",
      "  interactivity=interactivity, compiler=compiler, result=result)\n"
     ]
    },
    {
     "name": "stderr",
     "output_type": "stream",
     "text": [
      "/Users/rentakakura/anaconda/envs/jupyter-env/lib/python3.6/site-packages/IPython/core/interactiveshell.py:2698: DtypeWarning: Columns (0,1,2,3,4,5,6,7,8,9,10,11,12,13,14,15,16,17,18,19,20,21,22,23,24,25,26,27,28,29,30,31,32,33,34,35,36,37,38,39,40,41,42,43,44,45,46,47,48,49,50,51,52,53,54,55,56,57,58,59,60,61,62,63,64,65,66,67,68,69,70,71,72,73,74,75,76,77,78,79,80,81,82,83,84,85,86,87,88,89,90,91,92,93,94,95,96,97,98,99,100,101,102,103,104,105,106,107,108,109,110,111,112,113,114,115) have mixed types. Specify dtype option on import or set low_memory=False.\n",
      "  interactivity=interactivity, compiler=compiler, result=result)\n",
      "/Users/rentakakura/anaconda/envs/jupyter-env/lib/python3.6/site-packages/IPython/core/interactiveshell.py:2698: DtypeWarning: Columns (0,1,2,3,4,5,6,7,8,9,10,11,12,13,14,15,16,17,18,19,20,21,22,23,24,25,26,27,28,29,30,31,32,33,34,35,36,37,38,39,40,41,42,43,44,45,46,47,48,49,50,51,52,53,54,55,56,57,58,59,60,61,62,63,64,65,66,67,68,69,70,71,72,73,74,75,76,77,78,79,80,81,82,83,84,85,86,87,88,89,90,91,92,93,94,95,96,97,98,99,100,101,102,103,104,105,106,107,108,109,110,111,112,113,114,115,116,117,118,119,120,121,122,123,124,125,126,127,128,129,130,131,132,133,134,135,136,137,138,139,140,141,142,143,144,145,146,147,148,149) have mixed types. Specify dtype option on import or set low_memory=False.\n",
      "  interactivity=interactivity, compiler=compiler, result=result)\n",
      "/Users/rentakakura/anaconda/envs/jupyter-env/lib/python3.6/site-packages/IPython/core/interactiveshell.py:2698: DtypeWarning: Columns (0,1,2,3,4,5,6,7,8,9,10,11,12,13,14,15,16,17,18,19,20,21,22,23,24,25,26,27,28,29,30,31,32,33,34,35,36,37,38,39,40,41,42,43,44,45,46,47,48,49,50,51,52,53,54,55,56,57,58,59,60,61,62,63,64,65,66,67,68,69,70,71,72,73,74,75,76,77,78,79,80,81,82,83,84,85,86,87,88,89,90,91,92,93,94,95,96,97,98,99,100,101,102,103,104,105,106,107,108,109,110,111,112,113,114,115,116,117,118,119,120,121,122,123,124,125,126,127,128,129,130,131,132,133,134,135,136,137,138,139,140,141,142,143,144,145,146,147,148,149,150,151,152,153,154,155,156,157,158,159,160,161,162,163,164,165,166,167,168,169,170,171,172,173,174,175,176,177,178,179,180,181,182,183,184,185,186,187,188,189,190,191,192,193,194,195,196,197,198,199,200,201,202,203,204,205,206,207,208,209,210,211,212,213,214,215,216,217,218,219,220,221,222,223,224,225,226,227,228,229,230,231,232,233,234,235,236,237,238,239,240,241,242,243,244,245,246,247,248,249,250,251,252,253,254,255,256,257,258,259,260,261,262) have mixed types. Specify dtype option on import or set low_memory=False.\n",
      "  interactivity=interactivity, compiler=compiler, result=result)\n",
      "/Users/rentakakura/anaconda/envs/jupyter-env/lib/python3.6/site-packages/IPython/core/interactiveshell.py:2698: DtypeWarning: Columns (0,1,2,3,4,5,6,7,8,9,10,11,12,13,14,15,16,17,18,19,20,21,22,23,24,25,26,27,28,29,30,31,32,33,34,35,36,37,38,39,40,41,42,43,44,45,46,47,48,49,50,51,52,53,54,55,56,57,58,59,60,61,62,63,64,65,66,67,68,69,70,71,72,73,74,75,76,77,78,79,80,81,82,83,84,85,86,87,88,89,90,91,92,93,94,95,96,97,98,99,100,101,102,103,104,105,106,107,108,109,110,111,112,113,114,115,116,117,118,119,120,121,122,123,124,125,126,127,128,129,130,131,132,133,134,135,136,137,138,139,140,141,142,143,144,145,146,147,148,149,150,151,152,153,154,155,156,157,158,159,160,161,162,163,164,165,166,167,168,169,170,171,172,173,174,175,176,177,178,179,180,181,182,183,184,185,186,187,188,189,190,191,192,193,194,195,196,197,198,199,200,201,202,203,204,205,206,207,208,209,210,211,212,213,214,215,216,217,218,219,220,221,222,223,224,225,226,227,228,229,230,231,232,233,234,235,236,237,238,239,240,241,242,243,244,245,246,247,248,249,250,251) have mixed types. Specify dtype option on import or set low_memory=False.\n",
      "  interactivity=interactivity, compiler=compiler, result=result)\n",
      "/Users/rentakakura/anaconda/envs/jupyter-env/lib/python3.6/site-packages/IPython/core/interactiveshell.py:2698: DtypeWarning: Columns (0,1,2,3,4,5,6,7,8,9,10,11,12,13,14,15,16,17,18,19,20,21,22,23,24,25,26,27,28,29,30,31,32,33,34,35,36,37,38,39,40,41,42,43,44,45,46,47,48,49,50,51,52,53,54,55,56,57,58,59,60,61,62,63,64,65,66,67,68,69,70,71,72,73,74,75,76,77,78,79,80,81,82,83,84,85,86,87,88,89,90,91,92,93,94,95,96,97,98,99,100,101,102,103,104,105,106,107,108,109,110,111,112,113,114,115,116,117,118,119,120,121,122,123,124,125,126,127,128,129,130,131,132,133,134,135,136,137,138,139,140,141,142,143,144,145,146,147,148,149,150,151,152,153,154,155,156,157,158,159,160,161,162,163,164,165,166,167,168,169,170,171,172,173,174,175,176,177,178,179,180,181,182,183,184,185,186,187,188,189,190,191,192,193,194,195,196,197,198,199,200,201,202,203,204,205,206,207,208,209,210,211,212,213,214,215,216,217,218,219,220,221,222,223,224,225,226,227,228,229,230,231,232,233,234,235,236,237,238,239,240,241,242,243,244,245,246,247,248,249,250,251,252,253) have mixed types. Specify dtype option on import or set low_memory=False.\n",
      "  interactivity=interactivity, compiler=compiler, result=result)\n",
      "/Users/rentakakura/anaconda/envs/jupyter-env/lib/python3.6/site-packages/IPython/core/interactiveshell.py:2698: DtypeWarning: Columns (0,1,2,3,4,5,6,7,8,9,10,11,12,13,14,15,16,17,18,19,20,21,22,23,24,25,26,27,28,29,30,31,32,33,34,35,36,37,38,39,40,41,42,43,44,45,46,47,48,49,50,51,52,53,54,55,56,57,58,59,60,61,62,63,64,65,66,67,68,69,70,71,72,73,74,75,76,77,78,79,80,81,82,83,84,85,86,87,88,89,90,91,92,93,94,95,96,97,98,99,100,101,102,103,104,105,106,107,108,109,110,111,112,113,114,115,116,117,118,119,120,121,122,123,124,125,126,127,128,129,130,131,132,133,134,135,136,137,138,139,140,141,142,143,144,145,146,147,148,149,150,151,152,153,154,155,156,157,158,159,160,161,162,163,164,165,166,167,168,169,170,171,172,173,174,175,176,177,178,179,180,181,182,183,184,185,186,187,188,189,190,191,192,193,194,195,196,197,198,199,200,201,202,203,204,205,206,207,208,209,210,211,212,213,214,215,216,217,218,219,220,221,222,223,224,225,226,227,228,229,230,231,232,233,234,235,236,237,238,239,240,241,242,243,244,245,246,247,248,249,250,251,252,253,254,255,256,257,258,259,260,261,262,263,264,265,266,267,268,269,270,271,272,273,274,275,276,277,278,279,280,281,282,283,284,285,286,287,288,289,290,291,292,293,294,295,296,297,298,299,300,301,302,303,304,305,306,307,308,309,310,311,312,313,314,315,316,317,318,319,320,321,322,323,324,325,326,327,328,329,330,331,332,333,334,335,336,337,338,339,340,341,342,343,344,345,346,347,348,349,350,351) have mixed types. Specify dtype option on import or set low_memory=False.\n",
      "  interactivity=interactivity, compiler=compiler, result=result)\n",
      "/Users/rentakakura/anaconda/envs/jupyter-env/lib/python3.6/site-packages/IPython/core/interactiveshell.py:2698: DtypeWarning: Columns (0,1,2,3,4,5,6,7,8,9,10,11,12,13,14,15,16,17,18,19,20,21,22,23,24,25,26,27,28,29,30,31,32,33,34,35,36,37,38,39,40,41,42,43,44,45,46,47,48,49,50,51,52,53,54,55,56,57,58,59,60,61,62,63,64,65,66,67,68,69,70,71,72,73,74,75,76,77,78,79,80,81,82,83,84,85,86,87,88,89,90,91,92,93,94,95,96,97,98,99,100,101,102,103,104,105,106,107,108,109,110,111,112,113,114,115,116,117,118,119,120,121,122,123,124,125,126,127,128,129,130,131,132) have mixed types. Specify dtype option on import or set low_memory=False.\n",
      "  interactivity=interactivity, compiler=compiler, result=result)\n"
     ]
    }
   ],
   "source": [
    "for m in range(len(mouse_list)):\n",
    "    \n",
    "    mouse = mouse_list[m]\n",
    "    \n",
    "    #神経データをデータフレームにインポートする\n",
    "    inputf='%s/python/%s_Longitudinal_Traces.csv' %(mouse,mouse)\n",
    "    dff=pd.read_csv(inputf,header=0)\n",
    "    dff0=pd.DataFrame()\n",
    "\n",
    "    #Acceptのみを抽出したデータフレームの作成\n",
    "    dff0=dff.iloc[0,:]\n",
    "    Accept=dff0.index[dff0==' accepted']\n",
    "    dfa=pd.DataFrame()\n",
    "    dfa['Time2']=dff.iloc[1:,0]\n",
    "    for accept_c in range (0,len(Accept)):\n",
    "        dfa[Accept[accept_c]]=dff[Accept[accept_c]].iloc[1:]\n",
    "        dfa=dfa.astype('float')\n",
    "\n",
    "    #Acceptcellのfirst cellとlast cellを抽出\n",
    "    cell_f=dfa.columns[1]\n",
    "    cell_l=dfa.columns[dfa.shape[1]-1]\n",
    "    \n",
    "    for ph in range(len(phase_Hlist)):\n",
    "        phase=phase_Hlist[ph]\n",
    "        inputT='%s/python/%s_%s_Long_Traces_std.csv' %(mouse,mouse,phase)\n",
    "        dfl=pd.read_csv(inputT,header=0)\n",
    "        \n",
    "        #ここで神経データと行動データを結合       \n",
    "        df=dfl\n",
    "        df['Slice']=df.index//10\n",
    "        df=df.dropna(how='any')\n",
    "        outputf='%s/python/%s_%s_con_std.csv' %(mouse,mouse,phase)          \n",
    "        df.to_csv(outputf,index=False)\n",
    "\n",
    "        #Sliceごとに平均をとったdfmeanの作成\n",
    "        Index=np.arange(int(df.iloc[0].loc['Slice']),int(df.iloc[df.shape[0]-1].loc['Slice']+1),1)\n",
    "        df_mean=pd.DataFrame(index=Index,columns=[])\n",
    "        for i in range(0,len(df.columns)):\n",
    "            df_mean[df.columns[i]]=-100\n",
    "        for i_n in range(int(df.iloc[0].loc['Slice']),int(df.iloc[df.shape[0]-1].loc['Slice']+1)):\n",
    "            i = i_n - int(df.iloc[0].loc['Slice'])\n",
    "            df_mean.iloc[i].loc['Slice']=i_n\n",
    "            dfs = df[df['Slice']==i_n]\n",
    "            for k in range(0,df.columns.get_loc('Time2')+1):\n",
    "                df_mean.iloc[i,k]=dfs.iloc[0,k]\n",
    "            for j in range(dfs.columns.get_loc(cell_f),dfs.columns.get_loc(cell_l)+1):\n",
    "                df_mean.iloc[i,j]=dfs[dfs.columns[j]].mean()\n",
    "            for l in range(dfs.columns.get_loc(cell_l)+1,dfs.shape[1]):\n",
    "                df_mean.iloc[i,l]=dfs.iloc[0,l]\n",
    "        dfmean=df_mean\n",
    "        outputf='%s/python/%s_%s_mean_std.csv' %(mouse,mouse,phase)          \n",
    "        dfmean.to_csv(outputf,index=False)"
   ]
  },
  {
   "cell_type": "code",
   "execution_count": 15,
   "metadata": {
    "scrolled": false
   },
   "outputs": [],
   "source": [
    "for m in range(len(mouse_list)):\n",
    "    \n",
    "    mouse=mouse_list[m]\n",
    "    \n",
    "    df_all=pd.DataFrame()\n",
    "    \n",
    "    for ph in range(len(phase_Hlist)):\n",
    "        \n",
    "        phase=phase_Hlist[ph]\n",
    "        \n",
    "        df_phase=pd.DataFrame()\n",
    "        \n",
    "        inputf='%s/python/%s_%s_mean_std.csv'%(mouse,mouse,phase)\n",
    "        \n",
    "        df_phase=pd.read_csv(inputf,header=0)\n",
    "        \n",
    "        df_all=pd.concat([df_all,df_phase])\n",
    "        \n",
    "    outpuf='%s/python/%s_mean_std_HCall.csv'%(mouse,mouse)\n",
    "        \n",
    "    df_all.to_csv(outpuf,index=False)"
   ]
  },
  {
   "cell_type": "code",
   "execution_count": null,
   "metadata": {
    "collapsed": true
   },
   "outputs": [],
   "source": []
  },
  {
   "cell_type": "code",
   "execution_count": null,
   "metadata": {
    "collapsed": true
   },
   "outputs": [],
   "source": []
  },
  {
   "cell_type": "code",
   "execution_count": null,
   "metadata": {
    "collapsed": true
   },
   "outputs": [],
   "source": []
  },
  {
   "cell_type": "code",
   "execution_count": null,
   "metadata": {
    "collapsed": true
   },
   "outputs": [],
   "source": []
  },
  {
   "cell_type": "code",
   "execution_count": null,
   "metadata": {
    "collapsed": true
   },
   "outputs": [],
   "source": []
  },
  {
   "cell_type": "code",
   "execution_count": null,
   "metadata": {
    "collapsed": true
   },
   "outputs": [],
   "source": []
  },
  {
   "cell_type": "code",
   "execution_count": null,
   "metadata": {
    "collapsed": true
   },
   "outputs": [],
   "source": []
  },
  {
   "cell_type": "code",
   "execution_count": null,
   "metadata": {
    "collapsed": true
   },
   "outputs": [],
   "source": []
  },
  {
   "cell_type": "code",
   "execution_count": null,
   "metadata": {
    "collapsed": true
   },
   "outputs": [],
   "source": []
  },
  {
   "cell_type": "code",
   "execution_count": null,
   "metadata": {
    "collapsed": true
   },
   "outputs": [],
   "source": []
  },
  {
   "cell_type": "code",
   "execution_count": null,
   "metadata": {
    "collapsed": true
   },
   "outputs": [],
   "source": []
  },
  {
   "cell_type": "code",
   "execution_count": null,
   "metadata": {
    "collapsed": true
   },
   "outputs": [],
   "source": []
  },
  {
   "cell_type": "code",
   "execution_count": null,
   "metadata": {
    "collapsed": true
   },
   "outputs": [],
   "source": []
  },
  {
   "cell_type": "code",
   "execution_count": null,
   "metadata": {
    "collapsed": true
   },
   "outputs": [],
   "source": []
  },
  {
   "cell_type": "code",
   "execution_count": null,
   "metadata": {
    "collapsed": true
   },
   "outputs": [],
   "source": []
  },
  {
   "cell_type": "code",
   "execution_count": null,
   "metadata": {
    "collapsed": true
   },
   "outputs": [],
   "source": []
  },
  {
   "cell_type": "code",
   "execution_count": null,
   "metadata": {
    "collapsed": true
   },
   "outputs": [],
   "source": []
  },
  {
   "cell_type": "code",
   "execution_count": null,
   "metadata": {
    "collapsed": true
   },
   "outputs": [],
   "source": []
  },
  {
   "cell_type": "code",
   "execution_count": null,
   "metadata": {
    "collapsed": true
   },
   "outputs": [],
   "source": []
  },
  {
   "cell_type": "code",
   "execution_count": null,
   "metadata": {
    "collapsed": true
   },
   "outputs": [],
   "source": []
  },
  {
   "cell_type": "code",
   "execution_count": null,
   "metadata": {
    "collapsed": true
   },
   "outputs": [],
   "source": []
  },
  {
   "cell_type": "code",
   "execution_count": null,
   "metadata": {
    "collapsed": true
   },
   "outputs": [],
   "source": []
  },
  {
   "cell_type": "code",
   "execution_count": null,
   "metadata": {
    "collapsed": true
   },
   "outputs": [],
   "source": []
  },
  {
   "cell_type": "code",
   "execution_count": null,
   "metadata": {
    "collapsed": true
   },
   "outputs": [],
   "source": []
  },
  {
   "cell_type": "code",
   "execution_count": null,
   "metadata": {
    "collapsed": true
   },
   "outputs": [],
   "source": []
  },
  {
   "cell_type": "code",
   "execution_count": null,
   "metadata": {
    "collapsed": true
   },
   "outputs": [],
   "source": []
  },
  {
   "cell_type": "code",
   "execution_count": null,
   "metadata": {
    "collapsed": true
   },
   "outputs": [],
   "source": []
  },
  {
   "cell_type": "code",
   "execution_count": null,
   "metadata": {
    "collapsed": true
   },
   "outputs": [],
   "source": []
  },
  {
   "cell_type": "code",
   "execution_count": null,
   "metadata": {
    "collapsed": true
   },
   "outputs": [],
   "source": []
  },
  {
   "cell_type": "code",
   "execution_count": null,
   "metadata": {
    "collapsed": true
   },
   "outputs": [],
   "source": []
  },
  {
   "cell_type": "code",
   "execution_count": null,
   "metadata": {
    "collapsed": true
   },
   "outputs": [],
   "source": []
  },
  {
   "cell_type": "code",
   "execution_count": null,
   "metadata": {
    "collapsed": true
   },
   "outputs": [],
   "source": []
  },
  {
   "cell_type": "code",
   "execution_count": null,
   "metadata": {
    "collapsed": true
   },
   "outputs": [],
   "source": []
  },
  {
   "cell_type": "code",
   "execution_count": null,
   "metadata": {
    "collapsed": true
   },
   "outputs": [],
   "source": []
  },
  {
   "cell_type": "code",
   "execution_count": null,
   "metadata": {
    "collapsed": true
   },
   "outputs": [],
   "source": []
  },
  {
   "cell_type": "code",
   "execution_count": null,
   "metadata": {
    "collapsed": true
   },
   "outputs": [],
   "source": []
  },
  {
   "cell_type": "code",
   "execution_count": null,
   "metadata": {
    "collapsed": true
   },
   "outputs": [],
   "source": []
  },
  {
   "cell_type": "code",
   "execution_count": null,
   "metadata": {
    "collapsed": true
   },
   "outputs": [],
   "source": []
  },
  {
   "cell_type": "code",
   "execution_count": null,
   "metadata": {
    "collapsed": true
   },
   "outputs": [],
   "source": []
  },
  {
   "cell_type": "code",
   "execution_count": null,
   "metadata": {
    "collapsed": true
   },
   "outputs": [],
   "source": []
  },
  {
   "cell_type": "code",
   "execution_count": null,
   "metadata": {
    "collapsed": true
   },
   "outputs": [],
   "source": []
  },
  {
   "cell_type": "code",
   "execution_count": null,
   "metadata": {
    "collapsed": true
   },
   "outputs": [],
   "source": []
  },
  {
   "cell_type": "code",
   "execution_count": null,
   "metadata": {
    "collapsed": true
   },
   "outputs": [],
   "source": []
  }
 ],
 "metadata": {
  "kernelspec": {
   "display_name": "Python 3",
   "language": "python",
   "name": "python3"
  },
  "language_info": {
   "codemirror_mode": {
    "name": "ipython",
    "version": 3
   },
   "file_extension": ".py",
   "mimetype": "text/x-python",
   "name": "python",
   "nbconvert_exporter": "python",
   "pygments_lexer": "ipython3",
   "version": "3.6.8"
  }
 },
 "nbformat": 4,
 "nbformat_minor": 2
}
