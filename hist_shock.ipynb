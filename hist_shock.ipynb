{
 "cells": [
  {
   "cell_type": "code",
   "execution_count": 1,
   "metadata": {},
   "outputs": [],
   "source": [
    "import pandas as pd\n",
    "import numpy as np\n",
    "from sklearn.preprocessing import StandardScaler\n",
    "\n",
    "import matplotlib\n",
    "matplotlib.use('Agg')\n",
    "\n",
    "import matplotlib.pyplot as plt\n",
    "\n",
    "phase_list=[\"A2\",\"A6\"]\n",
    "\n",
    "mouse=6\n",
    "\n",
    "plt.figure(figsize=(5.4, 3.6), dpi=80)\n",
    "\n",
    "for ph in range(0,1):\n",
    "    \n",
    "    phase=phase_list[ph]\n",
    "\n",
    "    #for index in range(0,len(Index)):\n",
    "\n",
    "    inputXY='ID138464-%s_%s_XY.txt' %(mouse,phase)\n",
    "\n",
    "    dfx = pd.read_table(inputXY,header=0)\n",
    "\n",
    "    inputT='ID138464-%s_long_trace_%s.csv'%(mouse,phase)\n",
    "\n",
    "    dfl=pd.read_csv(inputT,header=0)\n",
    "    \n",
    "    dfx_m=pd.DataFrame(columns=dfx.columns,index=np.arange(0,int(dfx.iloc[dfx.shape[0]-1].loc['Slice']-1)*10))\n",
    "\n",
    "    for i in range(2,int(dfx.shape[0])):\n",
    "\n",
    "        for j in range(0,10):\n",
    "\n",
    "            for k in range(0,len(dfx_m.columns)):\n",
    "\n",
    "                dfx_m.iloc[(i-2)*10+j].loc[dfx_m.columns[k]]=dfx.iloc[i].loc[dfx_m.columns[k]]\n",
    "\n",
    "    \n",
    "    df=pd.concat([dfx_m, dfl], axis=1)\n",
    "    df=df.dropna(how='any')\n",
    "    \n",
    "    \n",
    "\n",
    "    \n",
    "    df_shock=df[df['Shock']==1]\n",
    "    \n",
    "    shocked_time=df_shock.iloc[0].loc['Time1']\n",
    "\n",
    "    for j in range(df.columns.get_loc(' C000'),df.columns.get_loc(' C000')+1):   \n",
    "\n",
    "        df_b=df[(df['Time1']<shocked_time)]\n",
    "\n",
    "        df_a=df[(df['Time1']>=shocked_time)]\n",
    "\n",
    "        plt.hist([df_b[df.columns[j]],df_a[df.columns[j]]],bins=10,normed=True,label=['beforeSHOCK','afterSHOCK'])\n",
    "        #plt.hist(df_m[df.columns[j]])\n",
    "        plt.xlabel('Ca2+img')\n",
    "        plt.ylabel('density')\n",
    "\n",
    "        \n",
    "        plt.ylim(0,5)\n",
    "        title_name='fig4/histshock_phase%s_mouse%s_%s' % (phase,mouse,'C000')\n",
    "        plt.title(title_name)\n",
    "        file_name=title_name+'.png'\n",
    "        plt.savefig(file_name)\n",
    "        \n",
    "        #splt.show()"
   ]
  },
  {
   "cell_type": "code",
   "execution_count": 4,
   "metadata": {},
   "outputs": [
    {
     "data": {
      "text/plain": [
       "0"
      ]
     },
     "execution_count": 4,
     "metadata": {},
     "output_type": "execute_result"
    }
   ],
   "source": [
    "a=5\n",
    "b=0\n",
    "if a==2 or a==3:\n",
    "    b=1\n",
    "b"
   ]
  },
  {
   "cell_type": "code",
   "execution_count": null,
   "metadata": {},
   "outputs": [],
   "source": []
  },
  {
   "cell_type": "code",
   "execution_count": null,
   "metadata": {},
   "outputs": [],
   "source": []
  },
  {
   "cell_type": "code",
   "execution_count": null,
   "metadata": {},
   "outputs": [],
   "source": []
  }
 ],
 "metadata": {
  "kernelspec": {
   "display_name": "Python 3",
   "language": "python",
   "name": "python3"
  },
  "language_info": {
   "codemirror_mode": {
    "name": "ipython",
    "version": 3
   },
   "file_extension": ".py",
   "mimetype": "text/x-python",
   "name": "python",
   "nbconvert_exporter": "python",
   "pygments_lexer": "ipython3",
   "version": "3.6.5"
  }
 },
 "nbformat": 4,
 "nbformat_minor": 2
}
