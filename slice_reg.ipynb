{
 "cells": [
  {
   "cell_type": "code",
   "execution_count": 14,
   "metadata": {},
   "outputs": [],
   "source": [
    "import pandas as pd\n",
    "import numpy as np\n",
    "from sklearn.preprocessing import StandardScaler\n",
    "\n",
    "import matplotlib\n",
    "#matplotlib.use('Agg')\n",
    "%matplotlib inline\n",
    "\n",
    "import matplotlib.pyplot as plt\n",
    "\n",
    "phase_list=[\"A1\",\"A2\",\"A31\",\"A32\",\"A41\",\"A42\",\"A5\",\"A6\",\"A7\"]\n",
    "\n",
    "mouse=6"
   ]
  },
  {
   "cell_type": "code",
   "execution_count": null,
   "metadata": {},
   "outputs": [
    {
     "name": "stderr",
     "output_type": "stream",
     "text": [
      "/Users/kanri/anaconda/envs/jupyter-env/lib/python3.6/site-packages/matplotlib/pyplot.py:524: RuntimeWarning: More than 20 figures have been opened. Figures created through the pyplot interface (`matplotlib.pyplot.figure`) are retained until explicitly closed and may consume too much memory. (To control this warning, see the rcParam `figure.max_open_warning`).\n",
      "  max_open_warning, RuntimeWarning)\n"
     ]
    }
   ],
   "source": [
    "for ph in range(0,9):\n",
    "    \n",
    "    phase=phase_list[ph]\n",
    "\n",
    "    #for index in range(0,len(Index)):\n",
    "\n",
    "    inputXY='ID138464-%s_%s_XY.txt' %(mouse,phase)\n",
    "\n",
    "    dfx = pd.read_table(inputXY,header=0)\n",
    "\n",
    "    inputT='ID138464-%s_long_trace_%s.csv'%(mouse,phase)\n",
    "\n",
    "    dfl=pd.read_csv(inputT,header=0)\n",
    "    \n",
    "    dfx_m=pd.DataFrame(columns=dfx.columns,index=np.arange(0,int(dfx.iloc[dfx.shape[0]-1].loc['Slice']-1)*10))\n",
    "\n",
    "    for i in range(2,int(dfx.shape[0])):\n",
    "\n",
    "        for j in range(0,10):\n",
    "\n",
    "            for k in range(0,len(dfx_m.columns)):\n",
    "\n",
    "                dfx_m.iloc[(i-2)*10+j].loc[dfx_m.columns[k]]=dfx.iloc[i].loc[dfx_m.columns[k]]\n",
    "\n",
    "    df=pd.concat([dfx_m, dfl], axis=1)\n",
    "    df=df.dropna(how='any')\n",
    "\n",
    "    Index=np.arange(int(df.iloc[0].loc['Time1']),int(df.iloc[df.shape[0]-1].loc['Time1']+1),1)\n",
    "    \n",
    "    for j in range(df.columns.get_loc(' C000'),df.columns.get_loc(' C261')+1):\n",
    "        \n",
    "        for r in range(0,int(df.shape[0]/100)+1):\n",
    "\n",
    "            df_r=df.iloc[r*100:(r+1)*100,:]\n",
    "        \n",
    "            plt.plot(df_r['Time1'],df_r[df_r.columns[j]],color='red')\n",
    "\n",
    "            #plt.plot(df_r['Time1'],df_r[df_r.columns[j]],color='black')\n",
    "        \n",
    "            plt.ylim=(-0.05,0.30)\n",
    "\n",
    "            for i in range(0,df_r.shape[0]):\n",
    "\n",
    "                if df_r.iloc[i].loc['FZ'] == 1:\n",
    "\n",
    "                    if df_r.iloc[i].loc['X']  <= 125:\n",
    "\n",
    "                        if df_r.iloc[i].loc['Y']  <=100:\n",
    "\n",
    "                            Color='lightpink'\n",
    "\n",
    "                        else:\n",
    "\n",
    "                            Color='lightblue'\n",
    "\n",
    "                    else:\n",
    "\n",
    "                        if df_r.iloc[i].loc['Y']  <=100:\n",
    "\n",
    "                            Color='silver'\n",
    "\n",
    "                        else:\n",
    "\n",
    "                            Color='lightgreen'\n",
    "\n",
    "\n",
    "                    plt.fill([df_r.iloc[i].loc['Time1'],df_r.iloc[i].loc['Time1']+1,df_r.iloc[i].loc['Time1']+1,df_r.iloc[i].loc['Time1']],[-0.05,-0.05,0.30,0.30],color=Color)\n",
    "\n",
    "                if (df_r.iloc[i].loc['Shock'] == 1):\n",
    "\n",
    "                    plt.plot([df_r.iloc[i].loc['Time1'],df_r.iloc[i].loc['Time1']],[-0.05,0.30],color='red',linestyle='dashed')\n",
    "\n",
    "            plt.xlabel('Time1')\n",
    "            plt.ylabel('Ca2+Img')             \n",
    "            title_name='fig2/slicereg_phase%s_mouse%s_reg%s~%s_%s' % (phase,mouse,df.iloc[r*100].loc['Time1'],df.iloc[r*100].loc['Time1']+5.0,df.columns[j])\n",
    "            plt.title(title_name)\n",
    "            file_name=title_name+'.png'\n",
    "            plt.savefig(file_name)\n",
    "            plt.figure(figsize=(5.4, 3.6), dpi=80)"
   ]
  },
  {
   "cell_type": "code",
   "execution_count": null,
   "metadata": {},
   "outputs": [],
   "source": []
  },
  {
   "cell_type": "code",
   "execution_count": null,
   "metadata": {},
   "outputs": [],
   "source": []
  },
  {
   "cell_type": "code",
   "execution_count": null,
   "metadata": {},
   "outputs": [],
   "source": []
  },
  {
   "cell_type": "code",
   "execution_count": null,
   "metadata": {},
   "outputs": [],
   "source": []
  }
 ],
 "metadata": {
  "kernelspec": {
   "display_name": "Python 3",
   "language": "python",
   "name": "python3"
  },
  "language_info": {
   "codemirror_mode": {
    "name": "ipython",
    "version": 3
   },
   "file_extension": ".py",
   "mimetype": "text/x-python",
   "name": "python",
   "nbconvert_exporter": "python",
   "pygments_lexer": "ipython3",
   "version": "3.6.5"
  }
 },
 "nbformat": 4,
 "nbformat_minor": 2
}
